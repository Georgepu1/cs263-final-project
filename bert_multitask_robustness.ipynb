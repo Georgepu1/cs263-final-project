{
  "cells": [
    {
      "cell_type": "markdown",
      "metadata": {
        "id": "JQa_KeE1krF7"
      },
      "source": [
        "Note: Get the data from the github repo: https://github.com/Georgepu1/cs263-final-project/\n",
        "\n",
        "- Good resource: https://colab.research.google.com/github/zphang/zphang.github.io/blob/master/files/notebooks/Multi_task_Training_with_Transformers_NLP.ipynb#scrollTo=LlICaYzQan59\n",
        "\n"
      ]
    },
    {
      "cell_type": "markdown",
      "source": [
        "# **Data preprocessing stage**"
      ],
      "metadata": {
        "id": "h4F--klnrhxY"
      }
    },
    {
      "cell_type": "code",
      "execution_count": null,
      "metadata": {
        "colab": {
          "base_uri": "https://localhost:8080/"
        },
        "id": "rzS-LJfRxrXX",
        "outputId": "f66c74ac-fd97-4bb2-d48c-15a3a7abd8c7"
      },
      "outputs": [
        {
          "output_type": "stream",
          "name": "stdout",
          "text": [
            "Looking in indexes: https://pypi.org/simple, https://us-python.pkg.dev/colab-wheels/public/simple/\n",
            "Collecting transformers\n",
            "  Downloading transformers-4.19.4-py3-none-any.whl (4.2 MB)\n",
            "\u001b[K     |████████████████████████████████| 4.2 MB 6.5 MB/s \n",
            "\u001b[?25hRequirement already satisfied: packaging>=20.0 in /usr/local/lib/python3.7/dist-packages (from transformers) (21.3)\n",
            "Requirement already satisfied: numpy>=1.17 in /usr/local/lib/python3.7/dist-packages (from transformers) (1.21.6)\n",
            "Requirement already satisfied: regex!=2019.12.17 in /usr/local/lib/python3.7/dist-packages (from transformers) (2019.12.20)\n",
            "Requirement already satisfied: filelock in /usr/local/lib/python3.7/dist-packages (from transformers) (3.7.0)\n",
            "Requirement already satisfied: requests in /usr/local/lib/python3.7/dist-packages (from transformers) (2.23.0)\n",
            "Requirement already satisfied: tqdm>=4.27 in /usr/local/lib/python3.7/dist-packages (from transformers) (4.64.0)\n",
            "Requirement already satisfied: importlib-metadata in /usr/local/lib/python3.7/dist-packages (from transformers) (4.11.4)\n",
            "Collecting pyyaml>=5.1\n",
            "  Downloading PyYAML-6.0-cp37-cp37m-manylinux_2_5_x86_64.manylinux1_x86_64.manylinux_2_12_x86_64.manylinux2010_x86_64.whl (596 kB)\n",
            "\u001b[K     |████████████████████████████████| 596 kB 48.4 MB/s \n",
            "\u001b[?25hCollecting tokenizers!=0.11.3,<0.13,>=0.11.1\n",
            "  Downloading tokenizers-0.12.1-cp37-cp37m-manylinux_2_12_x86_64.manylinux2010_x86_64.whl (6.6 MB)\n",
            "\u001b[K     |████████████████████████████████| 6.6 MB 17.3 MB/s \n",
            "\u001b[?25hCollecting huggingface-hub<1.0,>=0.1.0\n",
            "  Downloading huggingface_hub-0.7.0-py3-none-any.whl (86 kB)\n",
            "\u001b[K     |████████████████████████████████| 86 kB 4.6 MB/s \n",
            "\u001b[?25hRequirement already satisfied: typing-extensions>=3.7.4.3 in /usr/local/lib/python3.7/dist-packages (from huggingface-hub<1.0,>=0.1.0->transformers) (4.2.0)\n",
            "Requirement already satisfied: pyparsing!=3.0.5,>=2.0.2 in /usr/local/lib/python3.7/dist-packages (from packaging>=20.0->transformers) (3.0.9)\n",
            "Requirement already satisfied: zipp>=0.5 in /usr/local/lib/python3.7/dist-packages (from importlib-metadata->transformers) (3.8.0)\n",
            "Requirement already satisfied: idna<3,>=2.5 in /usr/local/lib/python3.7/dist-packages (from requests->transformers) (2.10)\n",
            "Requirement already satisfied: certifi>=2017.4.17 in /usr/local/lib/python3.7/dist-packages (from requests->transformers) (2022.5.18.1)\n",
            "Requirement already satisfied: chardet<4,>=3.0.2 in /usr/local/lib/python3.7/dist-packages (from requests->transformers) (3.0.4)\n",
            "Requirement already satisfied: urllib3!=1.25.0,!=1.25.1,<1.26,>=1.21.1 in /usr/local/lib/python3.7/dist-packages (from requests->transformers) (1.24.3)\n",
            "Installing collected packages: pyyaml, tokenizers, huggingface-hub, transformers\n",
            "  Attempting uninstall: pyyaml\n",
            "    Found existing installation: PyYAML 3.13\n",
            "    Uninstalling PyYAML-3.13:\n",
            "      Successfully uninstalled PyYAML-3.13\n",
            "Successfully installed huggingface-hub-0.7.0 pyyaml-6.0 tokenizers-0.12.1 transformers-4.19.4\n",
            "Looking in indexes: https://pypi.org/simple, https://us-python.pkg.dev/colab-wheels/public/simple/\n",
            "Requirement already satisfied: torchtext in /usr/local/lib/python3.7/dist-packages (0.12.0)\n",
            "Requirement already satisfied: torch==1.11.0 in /usr/local/lib/python3.7/dist-packages (from torchtext) (1.11.0+cu113)\n",
            "Requirement already satisfied: tqdm in /usr/local/lib/python3.7/dist-packages (from torchtext) (4.64.0)\n",
            "Requirement already satisfied: requests in /usr/local/lib/python3.7/dist-packages (from torchtext) (2.23.0)\n",
            "Requirement already satisfied: numpy in /usr/local/lib/python3.7/dist-packages (from torchtext) (1.21.6)\n",
            "Requirement already satisfied: typing-extensions in /usr/local/lib/python3.7/dist-packages (from torch==1.11.0->torchtext) (4.2.0)\n",
            "Requirement already satisfied: certifi>=2017.4.17 in /usr/local/lib/python3.7/dist-packages (from requests->torchtext) (2022.5.18.1)\n",
            "Requirement already satisfied: urllib3!=1.25.0,!=1.25.1,<1.26,>=1.21.1 in /usr/local/lib/python3.7/dist-packages (from requests->torchtext) (1.24.3)\n",
            "Requirement already satisfied: idna<3,>=2.5 in /usr/local/lib/python3.7/dist-packages (from requests->torchtext) (2.10)\n",
            "Requirement already satisfied: chardet<4,>=3.0.2 in /usr/local/lib/python3.7/dist-packages (from requests->torchtext) (3.0.4)\n"
          ]
        }
      ],
      "source": [
        "!pip install transformers\n",
        "!pip install torchtext"
      ]
    },
    {
      "cell_type": "code",
      "execution_count": null,
      "metadata": {
        "colab": {
          "base_uri": "https://localhost:8080/"
        },
        "id": "HvEs29lKoww_",
        "outputId": "a99c3ab5-0a35-449e-bd81-696e6d34399d"
      },
      "outputs": [
        {
          "output_type": "stream",
          "name": "stdout",
          "text": [
            "/content\n"
          ]
        }
      ],
      "source": [
        "!pwd"
      ]
    },
    {
      "cell_type": "code",
      "execution_count": null,
      "metadata": {
        "colab": {
          "base_uri": "https://localhost:8080/"
        },
        "id": "Z0hDCTN92aBL",
        "outputId": "af73722d-f13d-48c4-ffe2-3e262f9416fd"
      },
      "outputs": [
        {
          "output_type": "stream",
          "name": "stdout",
          "text": [
            "Mounted at /content/drive\n"
          ]
        }
      ],
      "source": [
        "from google.colab import drive\n",
        "drive.mount('/content/drive')"
      ]
    },
    {
      "cell_type": "code",
      "execution_count": null,
      "metadata": {
        "colab": {
          "base_uri": "https://localhost:8080/"
        },
        "id": "sR9BUzDEpR22",
        "outputId": "2593b1b7-bd01-489d-bfb8-430b0d43024b"
      },
      "outputs": [
        {
          "output_type": "stream",
          "name": "stdout",
          "text": [
            "/content/drive/Shareddrives/CS263/Final Project\n"
          ]
        }
      ],
      "source": [
        "cd '/content/drive/Shareddrives/CS263/Final Project'"
      ]
    },
    {
      "cell_type": "code",
      "execution_count": null,
      "metadata": {
        "id": "PQaq6Vhobpq2"
      },
      "outputs": [],
      "source": [
        "import torch\n",
        "device = torch.device(\"cuda:0\")"
      ]
    },
    {
      "cell_type": "code",
      "execution_count": null,
      "metadata": {
        "colab": {
          "base_uri": "https://localhost:8080/",
          "height": 204
        },
        "id": "ZUF62VszdFaa",
        "outputId": "476ff8b8-764e-4461-aff9-3d68647e8725"
      },
      "outputs": [
        {
          "output_type": "execute_result",
          "data": {
            "text/plain": [
              "                                              sentences  labels\n",
              "1345  Writer\\/director Walter Hill is in his hyperma...       1\n",
              "305                  Its sheer dynamism is infectious .       1\n",
              "4822      Witless , pointless , tasteless and idiotic .       0\n",
              "4006  The gags that fly at such a furiously funny pa...       1\n",
              "6283  but rather , ` How can you charge money for th...       0"
            ],
            "text/html": [
              "\n",
              "  <div id=\"df-e23413cb-de38-42d5-ac2b-08cd223d07ef\">\n",
              "    <div class=\"colab-df-container\">\n",
              "      <div>\n",
              "<style scoped>\n",
              "    .dataframe tbody tr th:only-of-type {\n",
              "        vertical-align: middle;\n",
              "    }\n",
              "\n",
              "    .dataframe tbody tr th {\n",
              "        vertical-align: top;\n",
              "    }\n",
              "\n",
              "    .dataframe thead th {\n",
              "        text-align: right;\n",
              "    }\n",
              "</style>\n",
              "<table border=\"1\" class=\"dataframe\">\n",
              "  <thead>\n",
              "    <tr style=\"text-align: right;\">\n",
              "      <th></th>\n",
              "      <th>sentences</th>\n",
              "      <th>labels</th>\n",
              "    </tr>\n",
              "  </thead>\n",
              "  <tbody>\n",
              "    <tr>\n",
              "      <th>1345</th>\n",
              "      <td>Writer\\/director Walter Hill is in his hyperma...</td>\n",
              "      <td>1</td>\n",
              "    </tr>\n",
              "    <tr>\n",
              "      <th>305</th>\n",
              "      <td>Its sheer dynamism is infectious .</td>\n",
              "      <td>1</td>\n",
              "    </tr>\n",
              "    <tr>\n",
              "      <th>4822</th>\n",
              "      <td>Witless , pointless , tasteless and idiotic .</td>\n",
              "      <td>0</td>\n",
              "    </tr>\n",
              "    <tr>\n",
              "      <th>4006</th>\n",
              "      <td>The gags that fly at such a furiously funny pa...</td>\n",
              "      <td>1</td>\n",
              "    </tr>\n",
              "    <tr>\n",
              "      <th>6283</th>\n",
              "      <td>but rather , ` How can you charge money for th...</td>\n",
              "      <td>0</td>\n",
              "    </tr>\n",
              "  </tbody>\n",
              "</table>\n",
              "</div>\n",
              "      <button class=\"colab-df-convert\" onclick=\"convertToInteractive('df-e23413cb-de38-42d5-ac2b-08cd223d07ef')\"\n",
              "              title=\"Convert this dataframe to an interactive table.\"\n",
              "              style=\"display:none;\">\n",
              "        \n",
              "  <svg xmlns=\"http://www.w3.org/2000/svg\" height=\"24px\"viewBox=\"0 0 24 24\"\n",
              "       width=\"24px\">\n",
              "    <path d=\"M0 0h24v24H0V0z\" fill=\"none\"/>\n",
              "    <path d=\"M18.56 5.44l.94 2.06.94-2.06 2.06-.94-2.06-.94-.94-2.06-.94 2.06-2.06.94zm-11 1L8.5 8.5l.94-2.06 2.06-.94-2.06-.94L8.5 2.5l-.94 2.06-2.06.94zm10 10l.94 2.06.94-2.06 2.06-.94-2.06-.94-.94-2.06-.94 2.06-2.06.94z\"/><path d=\"M17.41 7.96l-1.37-1.37c-.4-.4-.92-.59-1.43-.59-.52 0-1.04.2-1.43.59L10.3 9.45l-7.72 7.72c-.78.78-.78 2.05 0 2.83L4 21.41c.39.39.9.59 1.41.59.51 0 1.02-.2 1.41-.59l7.78-7.78 2.81-2.81c.8-.78.8-2.07 0-2.86zM5.41 20L4 18.59l7.72-7.72 1.47 1.35L5.41 20z\"/>\n",
              "  </svg>\n",
              "      </button>\n",
              "      \n",
              "  <style>\n",
              "    .colab-df-container {\n",
              "      display:flex;\n",
              "      flex-wrap:wrap;\n",
              "      gap: 12px;\n",
              "    }\n",
              "\n",
              "    .colab-df-convert {\n",
              "      background-color: #E8F0FE;\n",
              "      border: none;\n",
              "      border-radius: 50%;\n",
              "      cursor: pointer;\n",
              "      display: none;\n",
              "      fill: #1967D2;\n",
              "      height: 32px;\n",
              "      padding: 0 0 0 0;\n",
              "      width: 32px;\n",
              "    }\n",
              "\n",
              "    .colab-df-convert:hover {\n",
              "      background-color: #E2EBFA;\n",
              "      box-shadow: 0px 1px 2px rgba(60, 64, 67, 0.3), 0px 1px 3px 1px rgba(60, 64, 67, 0.15);\n",
              "      fill: #174EA6;\n",
              "    }\n",
              "\n",
              "    [theme=dark] .colab-df-convert {\n",
              "      background-color: #3B4455;\n",
              "      fill: #D2E3FC;\n",
              "    }\n",
              "\n",
              "    [theme=dark] .colab-df-convert:hover {\n",
              "      background-color: #434B5C;\n",
              "      box-shadow: 0px 1px 3px 1px rgba(0, 0, 0, 0.15);\n",
              "      filter: drop-shadow(0px 1px 2px rgba(0, 0, 0, 0.3));\n",
              "      fill: #FFFFFF;\n",
              "    }\n",
              "  </style>\n",
              "\n",
              "      <script>\n",
              "        const buttonEl =\n",
              "          document.querySelector('#df-e23413cb-de38-42d5-ac2b-08cd223d07ef button.colab-df-convert');\n",
              "        buttonEl.style.display =\n",
              "          google.colab.kernel.accessAllowed ? 'block' : 'none';\n",
              "\n",
              "        async function convertToInteractive(key) {\n",
              "          const element = document.querySelector('#df-e23413cb-de38-42d5-ac2b-08cd223d07ef');\n",
              "          const dataTable =\n",
              "            await google.colab.kernel.invokeFunction('convertToInteractive',\n",
              "                                                     [key], {});\n",
              "          if (!dataTable) return;\n",
              "\n",
              "          const docLinkHtml = 'Like what you see? Visit the ' +\n",
              "            '<a target=\"_blank\" href=https://colab.research.google.com/notebooks/data_table.ipynb>data table notebook</a>'\n",
              "            + ' to learn more about interactive tables.';\n",
              "          element.innerHTML = '';\n",
              "          dataTable['output_type'] = 'display_data';\n",
              "          await google.colab.output.renderOutput(dataTable, element);\n",
              "          const docLink = document.createElement('div');\n",
              "          docLink.innerHTML = docLinkHtml;\n",
              "          element.appendChild(docLink);\n",
              "        }\n",
              "      </script>\n",
              "    </div>\n",
              "  </div>\n",
              "  "
            ]
          },
          "metadata": {},
          "execution_count": 6
        }
      ],
      "source": [
        "# Note first get the data from the github to start data prep phase\n",
        "import pandas as pd\n",
        "\n",
        "sst_tr_dataset = pd.read_csv('sst_train_data.csv')\n",
        "sst_val_dataset = pd.read_csv('sst_val_data.csv')\n",
        "sst_test_dataset = pd.read_csv('sst_test_data.csv')\n",
        "\n",
        "cola_tr_dataset = pd.read_csv('cola_train_data.csv')\n",
        "cola_val_dataset = pd.read_csv('cola_val_data.csv')\n",
        "cola_test_dataset = pd.read_csv('cola_test_data.csv')\n",
        "\n",
        "sst_tr_dataset.sample(5)"
      ]
    },
    {
      "cell_type": "code",
      "execution_count": null,
      "metadata": {
        "id": "R6TxDTZieKOf"
      },
      "outputs": [],
      "source": [
        "#sst_tr_dataset.to(device)"
      ]
    },
    {
      "cell_type": "code",
      "execution_count": null,
      "metadata": {
        "id": "fVu22_V_gb01",
        "colab": {
          "base_uri": "https://localhost:8080/",
          "height": 113,
          "referenced_widgets": [
            "9b8c150af17143bca3b9d1cd39b58cc0",
            "61923a05d9a4410f9abbbd46d009c5b9",
            "b75c5255cbea4ff89b7de8e6e46bf0cc",
            "70f6372f741e473796cce2a387228bfe",
            "3d7274b8be694284be92276b44082634",
            "31729547db7d4238b1d0414ec7c081b1",
            "5d4d3ed885774884aa9d608a63a34e65",
            "9f669358a5a044ff9d351e2cacbb84b9",
            "68d853da09a64e309b7d2d488eaeb07a",
            "14bdc5d0a20745018c911198b9b7489e",
            "c89b17c87c384e88bfbd38b6ae661548",
            "2fa52ccece6f4220a7e00e859fa67d3c",
            "2fdb0fd49dea4e64855a1e8ba38524a3",
            "7a7ef1e523f745ddb49b16bda64b6c7b",
            "db276701b70e430e96abb5e01dd235a6",
            "f6613c0bd3ee4e6c90fe1a154f3350b7",
            "cb4fa0d1576f46b99e3247cde1c7147a",
            "d4899689d6aa4532a62b2d5c4560beee",
            "3fc4ac3294b64c97b4513526a41bd506",
            "ca1827237f294d1892574793bdbdf1a6",
            "6d146be679804bc1b3409fd2a7e00d22",
            "31903e8ad3f4496e8c03dbd8285c46ee",
            "1d1bdf446f164ad4aa4151d101ef724c",
            "e65bfe6bd1274f88a042749f7b210386",
            "ac4e9d47889d41ffae16c6d840d706ea",
            "1ae7f6be374c4527ab316d15c0b58c8d",
            "cae24fb51c194ff1a4e848574d552ec8",
            "539551ceaa984b9dbb6c9ab489dc5d40",
            "e03309e1e5a641b3a90eb5f080b4d981",
            "39e5d8bcee2f4cb8a43bb107e23415cf",
            "6f2361e8c94e49fd9fd07a4d21c4efa1",
            "dcbc3a52642f433faa5571f960d7ca75",
            "82e29fe5a9d24d93bc402e30e24e19ce"
          ]
        },
        "outputId": "347cc0a8-c92d-40d4-8445-127fb670d298"
      },
      "outputs": [
        {
          "output_type": "display_data",
          "data": {
            "text/plain": [
              "Downloading:   0%|          | 0.00/226k [00:00<?, ?B/s]"
            ],
            "application/vnd.jupyter.widget-view+json": {
              "version_major": 2,
              "version_minor": 0,
              "model_id": "9b8c150af17143bca3b9d1cd39b58cc0"
            }
          },
          "metadata": {}
        },
        {
          "output_type": "display_data",
          "data": {
            "text/plain": [
              "Downloading:   0%|          | 0.00/28.0 [00:00<?, ?B/s]"
            ],
            "application/vnd.jupyter.widget-view+json": {
              "version_major": 2,
              "version_minor": 0,
              "model_id": "2fa52ccece6f4220a7e00e859fa67d3c"
            }
          },
          "metadata": {}
        },
        {
          "output_type": "display_data",
          "data": {
            "text/plain": [
              "Downloading:   0%|          | 0.00/570 [00:00<?, ?B/s]"
            ],
            "application/vnd.jupyter.widget-view+json": {
              "version_major": 2,
              "version_minor": 0,
              "model_id": "1d1bdf446f164ad4aa4151d101ef724c"
            }
          },
          "metadata": {}
        }
      ],
      "source": [
        "from transformers import BertTokenizer, BertModel\n",
        "import torch\n",
        "\n",
        "model_name = \"bert-base-uncased\"\n",
        "\n",
        "tokenizer = BertTokenizer.from_pretrained(model_name)"
      ]
    },
    {
      "cell_type": "code",
      "execution_count": null,
      "metadata": {
        "id": "8akKpsGtlAdv"
      },
      "outputs": [],
      "source": [
        "import torch\n",
        "import torch.nn as nn\n",
        "import torch.nn.functional as F\n",
        "import numpy as np\n",
        "from torch.utils.data import Dataset\n",
        "from torch.utils.data import DataLoader\n",
        "import random\n",
        "import transformers\n",
        "from transformers import pipeline, AutoTokenizer, DataCollatorWithPadding, AutoModelForSequenceClassification, TrainingArguments, Trainer, AutoConfig\n",
        "from transformers import AutoConfig, AutoModelForPreTraining\n",
        "from transformers import AutoTokenizer, AdamW, get_linear_schedule_with_warmup\n",
        "from collections import namedtuple\n"
      ]
    },
    {
      "cell_type": "code",
      "execution_count": null,
      "metadata": {
        "id": "VrgjGQHVReXo"
      },
      "outputs": [],
      "source": [
        "from collections import namedtuple\n",
        "\n",
        "gen_batch_fields = ['sst_input_text', 'sst_id_text', 'sst_attention_mask', 'sst_target', 'cola_input_text', 'cola_id_text', 'cola_attention_mask', 'cola_target']\n",
        "GenBatch = namedtuple('GenBatch', field_names=gen_batch_fields, defaults=[None] * len(gen_batch_fields))"
      ]
    },
    {
      "cell_type": "code",
      "execution_count": null,
      "metadata": {
        "id": "8LkFzD6dPBRu"
      },
      "outputs": [],
      "source": [
        "# Dataset for LSTM + Embedding / BERT\n",
        "class MultitaskDataset(torch.utils.data.Dataset):\n",
        "  def __init__(self, tokenizer, sst_X, sst_y, cola_X, cola_y, max_len=10000, max_output_length=64):\n",
        "    assert len(sst_X) == len(sst_y), \"SST data not one to one\"\n",
        "    assert len(cola_X) == len(cola_y), \"CoLA data not one to one\"\n",
        "\n",
        "    self.max_len = max_len\n",
        "    self.tokenizer = tokenizer\n",
        "    self.max_output_length = max_output_length\n",
        "    min_samples = min(len(sst_X), len(cola_X))\n",
        "    self.data = []\n",
        "    sst_X = sst_X[:min(min_samples, max_len)]\n",
        "    sst_y = sst_y[:min(min_samples, max_len)]\n",
        "    cola_X = cola_X[:min(min_samples, max_len)]\n",
        "    cola_y = cola_y[:min(min_samples, max_len)]\n",
        "    self.load_data(sst_X, sst_y, cola_X, cola_y)\n",
        "\n",
        "  def load_data(self, sst_X, sst_y, cola_X, cola_y):\n",
        "    for (cur_sst_X, cur_sst_y, cur_cola_X, cur_cola_y) in zip(sst_X, sst_y, cola_X, cola_y):\n",
        "      self.data.append({\n",
        "          'sst_input': cur_sst_X, \n",
        "          'sst_target': cur_sst_y, \n",
        "          'cola_input': cur_cola_X, \n",
        "          'cola_target': cur_cola_y,\n",
        "      })\n",
        "\n",
        "  def __len__(self):\n",
        "    return len(self.data)\n",
        "\n",
        "  def __getitem__(self, index):\n",
        "      # Get element consisting of sst_X, sst_y, cola_X, and cola_y\n",
        "    return self.data[index]\n",
        "  \n",
        "  def collate_fn(self, batch):\n",
        "    sst_input_text = [x['sst_input'] for x in batch]\n",
        "    sst_inputs = self.tokenizer(sst_input_text, return_tensors=\"pt\", padding=True, max_length=self.max_output_length)\n",
        "    #print(sst_inputs)\n",
        "    cola_input_text = [x['cola_input'] for x in batch]\n",
        "    cola_inputs = self.tokenizer(cola_input_text, return_tensors=\"pt\", padding=True, max_length=self.max_output_length)\n",
        "    #sst_input_text = sst_input_text.to(device)\n",
        "    #sst_inputs = sst_inputs.to(device)\n",
        "    #cola_input_text = cola_input_text.to(device)\n",
        "    #cola_inputs = cola_inputs.to(device)\n",
        "    \n",
        "    #if self.if_cuda:\n",
        "    #sst_input_text = sst_input_text.cuda()\n",
        "    #sst_inputs = sst_inputs.cuda()\n",
        "    #cola_input_text = cola_input_text.cuda()\n",
        "    #cola_inputs = cola_inputs.cuda()\n",
        "\n",
        "\n",
        "    return GenBatch(\n",
        "      sst_input_text=sst_input_text,\n",
        "      sst_id_text=sst_inputs['input_ids'],\n",
        "      sst_attention_mask=sst_inputs['attention_mask'],\n",
        "      sst_target=[x['sst_target'] for x in batch],\n",
        "      cola_input_text=cola_input_text,\n",
        "      cola_id_text=cola_inputs['input_ids'],\n",
        "      cola_attention_mask=cola_inputs['attention_mask'],\n",
        "      cola_target=[x['cola_target'] for x in batch]\n",
        "    )"
      ]
    },
    {
      "cell_type": "code",
      "execution_count": null,
      "metadata": {
        "id": "wSLscrbcPFFX",
        "colab": {
          "base_uri": "https://localhost:8080/"
        },
        "outputId": "69fe3271-4445-4fa9-c2ac-3d3447e85d2e"
      },
      "outputs": [
        {
          "output_type": "stream",
          "name": "stdout",
          "text": [
            "<torch.utils.data.dataloader.DataLoader object at 0x7feb811bc9d0>\n"
          ]
        }
      ],
      "source": [
        "train_set = MultitaskDataset(tokenizer, sst_tr_dataset['sentences'], sst_tr_dataset['labels'], \n",
        "                             cola_tr_dataset['sentences'], cola_tr_dataset['labels'])\n",
        "val_set = MultitaskDataset(tokenizer, sst_val_dataset['sentences'], sst_val_dataset['labels'], \n",
        "                           cola_val_dataset['sentences'], cola_val_dataset['labels'])\n",
        "test_set = MultitaskDataset(tokenizer, sst_test_dataset['sentences'], sst_test_dataset['labels'], \n",
        "                             cola_test_dataset['sentences'], cola_test_dataset['labels'])\n",
        "train_loader = DataLoader(train_set, shuffle=True, batch_size=8,\n",
        "                          collate_fn=train_set.collate_fn)\n",
        "print(train_loader)\n",
        "val_loader  = DataLoader(val_set, shuffle=False, batch_size=8,\n",
        "                          collate_fn=val_set.collate_fn)\n",
        "test_loader  = DataLoader(test_set, shuffle=False, batch_size=8,\n",
        "                          collate_fn=test_set.collate_fn)\n"
      ]
    },
    {
      "cell_type": "code",
      "execution_count": null,
      "metadata": {
        "id": "XveNwXEVPFUT"
      },
      "outputs": [],
      "source": [
        "# inputs = tokenizer(\"Hello, my dog is cute\", return_tensors=\"pt\", padding=True, max_length=64)\n",
        "# inputs.keys()\n",
        "# outputs = model(**inputs)\n",
        "\n",
        "# last_hidden_states = outputs.last_hidden_state"
      ]
    },
    {
      "cell_type": "code",
      "execution_count": null,
      "metadata": {
        "id": "cURqYBG4uD4F"
      },
      "outputs": [],
      "source": [
        "import torch.nn.functional as F\n",
        "\n",
        "class MultitaskBert(torch.nn.Module):\n",
        "  def __init__(self, model_name, tokenizer, num_labels=2, hidden_size=768):\n",
        "    super().__init__()\n",
        "\n",
        "    self.num_labels = num_labels\n",
        "    self.tokenizer = tokenizer\n",
        "    self.bert = BertModel.from_pretrained(model_name)\n",
        "    # self.dropout = nn.Dropout(.1)\n",
        "    self.classifier = nn.ModuleList([nn.Linear(hidden_size, self.num_labels) for i in range(2)])\n",
        "    self.init_weights()\n",
        "\n",
        "  def init_weights(self):\n",
        "    initrange = 0.5\n",
        "    self.classifier[0].weight.data.uniform_(-initrange, initrange)\n",
        "    self.classifier[1].weight.data.uniform_(-initrange, initrange)\n",
        "    self.classifier[0].bias.data.zero_()\n",
        "    self.classifier[1].bias.data.zero_()\n",
        "\n",
        "  def forward(self, input_ids, attention_mask, ind):\n",
        "    outputs = self.bert(\n",
        "      input_ids,\n",
        "      attention_mask=attention_mask\n",
        "    )\n",
        "\n",
        "    pooled_output = outputs[1]\n",
        "    # Note BERT Model already applies dropout in output\n",
        "    # pooled_output = self.dropout(pooled_output)\n",
        "    logits = self.classifier[ind](pooled_output)\n",
        "    # print(logits.shape)\n",
        "    return F.softmax(logits, dim=-1)"
      ]
    },
    {
      "cell_type": "code",
      "execution_count": null,
      "metadata": {
        "colab": {
          "base_uri": "https://localhost:8080/",
          "height": 154,
          "referenced_widgets": [
            "b5069a10266d4277a3d0ebe5fee173e5",
            "9b666e3166024215ac5d2f7f70f623f8",
            "a063138f59bf491b8d4ddecde307f108",
            "1fb5fc248bf148baa81553178fe99019",
            "40c1ecd007984bc695afba74235a516a",
            "2d9516288ea544e891c6a05a816da658",
            "7ecd876dd89c4d05ae9e2955d082d4ef",
            "181824cb2e3d46c1948fe1f47489c50b",
            "44c97ba5920b4bb896942e56c195b9bb",
            "744bd9999ef04fa188bfb7b0217d01cc",
            "5f87e6817df44b8da760a1e1e0c8aa84"
          ]
        },
        "id": "kTJjZH3psRul",
        "outputId": "2a60f899-6a83-4625-9897-dab2535b983d"
      },
      "outputs": [
        {
          "output_type": "display_data",
          "data": {
            "text/plain": [
              "Downloading:   0%|          | 0.00/420M [00:00<?, ?B/s]"
            ],
            "application/vnd.jupyter.widget-view+json": {
              "version_major": 2,
              "version_minor": 0,
              "model_id": "b5069a10266d4277a3d0ebe5fee173e5"
            }
          },
          "metadata": {}
        },
        {
          "output_type": "stream",
          "name": "stderr",
          "text": [
            "Some weights of the model checkpoint at bert-base-uncased were not used when initializing BertModel: ['cls.predictions.bias', 'cls.predictions.transform.dense.weight', 'cls.seq_relationship.bias', 'cls.predictions.transform.dense.bias', 'cls.predictions.decoder.weight', 'cls.predictions.transform.LayerNorm.weight', 'cls.predictions.transform.LayerNorm.bias', 'cls.seq_relationship.weight']\n",
            "- This IS expected if you are initializing BertModel from the checkpoint of a model trained on another task or with another architecture (e.g. initializing a BertForSequenceClassification model from a BertForPreTraining model).\n",
            "- This IS NOT expected if you are initializing BertModel from the checkpoint of a model that you expect to be exactly identical (initializing a BertForSequenceClassification model from a BertForSequenceClassification model).\n",
            "/usr/local/lib/python3.7/dist-packages/transformers/optimization.py:309: FutureWarning: This implementation of AdamW is deprecated and will be removed in a future version. Use the PyTorch implementation torch.optim.AdamW instead, or set `no_deprecation_warning=True` to disable this warning\n",
            "  FutureWarning,\n"
          ]
        }
      ],
      "source": [
        "from transformers import AdamW\n",
        "\n",
        "model = MultitaskBert(model_name, tokenizer)\n",
        "model = model.to(device)\n",
        "param_groups = [{'params': model.parameters(), 'lr': 0.00001, 'weight_decay': 0.01}]\n",
        "optimizer = AdamW(params=param_groups)\n",
        "criterion = nn.CrossEntropyLoss()\n",
        "\n",
        "\n",
        "def eval_metrics(model, dl, criterion):\n",
        "  model.eval()\n",
        "  sst_acc = 0\n",
        "  sst_loss = 0\n",
        "  cola_acc = 0\n",
        "  cola_loss = 0\n",
        "  total = 0\n",
        "\n",
        "  with torch.no_grad():\n",
        "    for sample in dl:\n",
        "      x1_id = sample.sst_id_text.cuda()\n",
        "      x2_id = sample.cola_id_text.cuda()\n",
        "      x1_attention_mask = sample.sst_attention_mask.cuda()\n",
        "      x2_attention_mask = sample.cola_attention_mask.cuda()\n",
        "      y1_pred = model(x1_id, x1_attention_mask, 0).reshape(-1, 2)\n",
        "      y2_pred = model(x2_id, x2_attention_mask, 1).reshape(-1, 2)\n",
        "      #print(x1_id.shape,x1_attention_mask.shape)\n",
        "\n",
        "      #y1_pred = model(sample.sst_id_text, sample.sst_attention_mask, 0).reshape(-1, 2)\n",
        "      #y2_pred = model(sample.cola_id_text, sample.cola_attention_mask, 1).reshape(-1, 2)\n",
        "      sample_sst_target = torch.tensor(sample.sst_target).type(torch.long).reshape(-1)\n",
        "      sample_cola_target = torch.tensor(sample.cola_target).type(torch.long).reshape(-1)\n",
        "      sample_sst_target = sample_sst_target.cuda()\n",
        "      sample_cola_target = sample_cola_target.cuda()\n",
        "\n",
        "      sst_loss = criterion(y1_pred, sample_sst_target)\n",
        "      cola_loss = criterion(y2_pred, sample_cola_target)\n",
        "      \n",
        "      # print('Length: {}'.format(y1_pred.shape[0]))\n",
        "      sst_acc += (torch.eq(sample_sst_target,y1_pred.argmax(1))).sum().item()\n",
        "      cola_acc += (torch.eq(sample_cola_target, y2_pred.argmax(1))).sum().item()\n",
        "      sst_loss += sst_loss.item()\n",
        "      cola_loss += cola_loss.item()\n",
        "      total += y1_pred.shape[0]\n",
        "\n",
        "  return sst_acc/total, sst_loss/total, cola_acc/total, cola_loss/total"
      ]
    },
    {
      "cell_type": "code",
      "execution_count": null,
      "metadata": {
        "id": "ooTbWIuqV8Wr"
      },
      "outputs": [],
      "source": [
        "# m = nn.Sigmoid()\n",
        "# loss = nn.BCELoss()\n",
        "# input = torch.randn(3, requires_grad=True)\n",
        "# target = torch.empty(3).random_(2)\n",
        "\n",
        "# output = loss(m(input), target)\n",
        "# output.backward()\n",
        "# print(input.shape, target.shape)"
      ]
    },
    {
      "cell_type": "code",
      "execution_count": null,
      "metadata": {
        "colab": {
          "base_uri": "https://localhost:8080/"
        },
        "id": "59hUPeePQ3LA",
        "outputId": "9ded88ac-ce9d-4a01-d93f-1c1a2740b9c2"
      },
      "outputs": [
        {
          "output_type": "stream",
          "name": "stderr",
          "text": [
            "\r  0%|          | 0/962 [00:00<?, ?it/s]/usr/local/lib/python3.7/dist-packages/transformers/tokenization_utils_base.py:2302: UserWarning: `max_length` is ignored when `padding`=`True` and there is no truncation strategy. To pad to max length, use `padding='max_length'`.\n",
            "  \"`max_length` is ignored when `padding`=`True` and there is no truncation strategy. \"\n",
            "100%|██████████| 962/962 [02:16<00:00,  7.03it/s]\n"
          ]
        },
        {
          "output_type": "stream",
          "name": "stdout",
          "text": [
            "SST Train accuracy: 0.7846653671215075, CoLA Train accuracy: 0.749317738791423, SST Train loss: 0.06466381041317346, CoLA Train loss: 0.06906796868084467\n",
            "SST Val accuracy: 0.8574766355140186, CoLA Val accuracy: 0.8002336448598131, SST Val loss: 0.0008775718160904944, CoLA Val loss: 0.0013164101401343942 \n"
          ]
        },
        {
          "output_type": "stream",
          "name": "stderr",
          "text": [
            "100%|██████████| 962/962 [02:19<00:00,  6.90it/s]\n"
          ]
        },
        {
          "output_type": "stream",
          "name": "stdout",
          "text": [
            "SST Train accuracy: 0.8600389863547758, CoLA Train accuracy: 0.8230019493177388, SST Train loss: 0.05596080538977114, CoLA Train loss: 0.060557639409072064\n",
            "SST Val accuracy: 0.8516355140186916, CoLA Val accuracy: 0.8002336448598131, SST Val loss: 0.0007377471774816513, CoLA Val loss: 0.0010401384206488729 \n"
          ]
        },
        {
          "output_type": "stream",
          "name": "stderr",
          "text": [
            "100%|██████████| 962/962 [02:19<00:00,  6.92it/s]\n"
          ]
        },
        {
          "output_type": "stream",
          "name": "stdout",
          "text": [
            "SST Train accuracy: 0.8925276153346329, CoLA Train accuracy: 0.8530214424951267, SST Train loss: 0.052108456935101785, CoLA Train loss: 0.056879754768245167\n",
            "SST Val accuracy: 0.8644859813084113, CoLA Val accuracy: 0.8119158878504673, SST Val loss: 0.000731973210349679, CoLA Val loss: 0.0013106378028169274 \n"
          ]
        },
        {
          "output_type": "stream",
          "name": "stderr",
          "text": [
            "100%|██████████| 962/962 [02:19<00:00,  6.91it/s]\n"
          ]
        },
        {
          "output_type": "stream",
          "name": "stdout",
          "text": [
            "SST Train accuracy: 0.9118908382066276, CoLA Train accuracy: 0.87953216374269, SST Train loss: 0.04999201962744903, CoLA Train loss: 0.05387017936037298\n",
            "SST Val accuracy: 0.860981308411215, CoLA Val accuracy: 0.8271028037383178, SST Val loss: 0.0007319324649870396, CoLA Val loss: 0.0013160191010683775 \n"
          ]
        },
        {
          "output_type": "stream",
          "name": "stderr",
          "text": [
            "100%|██████████| 962/962 [02:18<00:00,  6.93it/s]\n"
          ]
        },
        {
          "output_type": "stream",
          "name": "stdout",
          "text": [
            "SST Train accuracy: 0.9191682910981157, CoLA Train accuracy: 0.8974658869395712, SST Train loss: 0.04915049990870257, CoLA Train loss: 0.0517420691162677\n",
            "SST Val accuracy: 0.8621495327102804, CoLA Val accuracy: 0.8282710280373832, SST Val loss: 0.0007320609292946756, CoLA Val loss: 0.0013161024544388056 \n"
          ]
        },
        {
          "output_type": "stream",
          "name": "stderr",
          "text": [
            "100%|██████████| 962/962 [02:23<00:00,  6.70it/s]\n"
          ]
        },
        {
          "output_type": "stream",
          "name": "stdout",
          "text": [
            "SST Train accuracy: 0.9250162443144899, CoLA Train accuracy: 0.9090318388564003, SST Train loss: 0.04836834992504182, CoLA Train loss: 0.05037204566677334\n",
            "SST Val accuracy: 0.8656542056074766, CoLA Val accuracy: 0.8247663551401869, SST Val loss: 0.0010230450425297022, CoLA Val loss: 0.0013160323724150658 \n"
          ]
        },
        {
          "output_type": "stream",
          "name": "stderr",
          "text": [
            "100%|██████████| 962/962 [02:18<00:00,  6.93it/s]\n"
          ]
        },
        {
          "output_type": "stream",
          "name": "stdout",
          "text": [
            "SST Train accuracy: 0.9319038336582196, CoLA Train accuracy: 0.908641975308642, SST Train loss: 0.04755533057191761, CoLA Train loss: 0.05039740754769482\n",
            "SST Val accuracy: 0.866822429906542, CoLA Val accuracy: 0.8364485981308412, SST Val loss: 0.0010265494929626584, CoLA Val loss: 0.0013161360984668136 \n"
          ]
        },
        {
          "output_type": "stream",
          "name": "stderr",
          "text": [
            "100%|██████████| 962/962 [02:20<00:00,  6.87it/s]\n"
          ]
        },
        {
          "output_type": "stream",
          "name": "stdout",
          "text": [
            "SST Train accuracy: 0.9325536062378168, CoLA Train accuracy: 0.9196881091617933, SST Train loss: 0.047400659497021234, CoLA Train loss: 0.04910177421926135\n",
            "SST Val accuracy: 0.8492990654205608, CoLA Val accuracy: 0.8341121495327103, SST Val loss: 0.0007900271448306739, CoLA Val loss: 0.0013160312082618475 \n"
          ]
        },
        {
          "output_type": "stream",
          "name": "stderr",
          "text": [
            "100%|██████████| 962/962 [02:20<00:00,  6.83it/s]\n"
          ]
        },
        {
          "output_type": "stream",
          "name": "stdout",
          "text": [
            "SST Train accuracy: 0.9347628330084471, CoLA Train accuracy: 0.9156595191682911, SST Train loss: 0.047145729738059486, CoLA Train loss: 0.0494918649424354\n",
            "SST Val accuracy: 0.8492990654205608, CoLA Val accuracy: 0.8212616822429907, SST Val loss: 0.0007319203577935696, CoLA Val loss: 0.0013160372618585825 \n"
          ]
        },
        {
          "output_type": "stream",
          "name": "stderr",
          "text": [
            "100%|██████████| 962/962 [02:20<00:00,  6.83it/s]\n"
          ]
        },
        {
          "output_type": "stream",
          "name": "stdout",
          "text": [
            "SST Train accuracy: 0.938401559454191, CoLA Train accuracy: 0.9251461988304094, SST Train loss: 0.046716277962617084, CoLA Train loss: 0.048442217883853035\n",
            "SST Val accuracy: 0.8679906542056075, CoLA Val accuracy: 0.8271028037383178, SST Val loss: 0.000731920066755265, CoLA Val loss: 0.0013161228271201253 \n"
          ]
        }
      ],
      "source": [
        "from tqdm import tqdm\n",
        "epochs = 10\n",
        "\n",
        "for _ in range(epochs):\n",
        "  \n",
        "  tr_count = 0\n",
        "  sst_tr_acc = 0\n",
        "  sst_tr_loss = 0\n",
        "  cola_tr_acc = 0\n",
        "  cola_tr_loss = 0\n",
        "  \n",
        "  model.train()\n",
        "  for sample in tqdm(train_loader):\n",
        "    # Note can also set the data to a decide (cuda)\n",
        "    model.zero_grad()\n",
        "    \n",
        "    #print(sample)\n",
        "    x1_id = sample.sst_id_text.cuda()\n",
        "    x2_id = sample.cola_id_text.cuda()\n",
        "    x1_attention_mask = sample.sst_attention_mask.cuda()\n",
        "    x2_attention_mask = sample.cola_attention_mask.cuda()\n",
        "    #print(x1_id.shape)\n",
        "    #print(x1_attention_mask.shape)\n",
        "    y1_pred = model(x1_id, x1_attention_mask, 0).reshape(-1, 2)\n",
        "    y2_pred = model(x2_id, x2_attention_mask, 1).reshape(-1, 2)\n",
        "    #y1_pred = model(sample.sst_id_text, sample.sst_attention_mask, 0).reshape(-1, 2)\n",
        "    #y2_pred = model(sample.cola_id_text, sample.cola_attention_mask, 1).reshape(-1, 2)\n",
        "    sample_sst_target = torch.tensor(sample.sst_target).type(torch.long).reshape(-1)\n",
        "    sample_cola_target = torch.tensor(sample.cola_target).type(torch.long).reshape(-1)\n",
        "    sample_sst_target = sample_sst_target.cuda()\n",
        "    sample_cola_target = sample_cola_target.cuda()\n",
        "\n",
        "    sst_loss = criterion(y1_pred, sample_sst_target)\n",
        "    cola_loss = criterion(y2_pred, sample_cola_target)\n",
        "    # multitask loss\n",
        "    loss = sst_loss + cola_loss\n",
        "    loss.backward()\n",
        "    # intermediate variabels stores embedding of x and computes\n",
        "    # m_output.grad w.r.t. this and calculate the MSE of the m_output.grad(emb_x)\n",
        "    # norm and 1.0 and use relu on; before you do the square, pass it through a relu\n",
        "    # so everything les than 1.0 wont be counted to the square.\n",
        "    # MSE (m_output.grad(x), 1.0) calulate gradient of M output w.r.t. x's embedding space\n",
        "    # To avoid overfitting, calculating regularization term can use a varied version of x\n",
        "    # instead of the original (e.g. add gaussian noise around embeddings of x); can\n",
        "    # also minimize discrepancy on the two for robustness of model\n",
        "    # Lipschitz-regularized loss\n",
        "    optimizer.step()\n",
        "    # print('Length: {}'.format(y1_pred.shape[0]))\n",
        "    sst_tr_acc += (torch.eq(sample_sst_target,y1_pred.argmax(1))).sum().item()\n",
        "    cola_tr_acc += (torch.eq(sample_cola_target, y2_pred.argmax(1))).sum().item()\n",
        "    sst_tr_loss += sst_loss.item()\n",
        "    cola_tr_loss += cola_loss.item()\n",
        "    tr_count += y1_pred.shape[0]\n",
        "    \n",
        "  print(\"SST Train accuracy: {}, CoLA Train accuracy: {}, SST Train loss: {}, CoLA Train loss: {}\".format(sst_tr_acc/tr_count, cola_tr_acc/tr_count, sst_tr_loss/tr_count, cola_tr_loss/tr_count))\n",
        "  val_sst_acc, val_sst_loss, val_cola_acc, val_cola_loss = eval_metrics(model, val_loader, criterion)\n",
        "  print(\"SST Val accuracy: {}, CoLA Val accuracy: {}, SST Val loss: {}, CoLA Val loss: {} \".format(val_sst_acc, val_cola_acc, val_sst_loss, val_cola_loss))"
      ]
    },
    {
      "cell_type": "code",
      "execution_count": null,
      "metadata": {
        "id": "hssLI9PLrh0X"
      },
      "outputs": [],
      "source": [
        "# learning_rate = 3e-4\n",
        "# criterion = nn.BCELoss()\n",
        "# # optimizer = torch.optim.SGD(model.parameters(),lr=learning_rate)\n",
        "# optimizer = torch.optim.Adam(model.parameters(),lr=learning_rate)\n",
        "# offset_input = torch.tensor([0])\n"
      ]
    },
    {
      "cell_type": "code",
      "execution_count": null,
      "metadata": {
        "id": "MD_7Nktarh29",
        "colab": {
          "base_uri": "https://localhost:8080/"
        },
        "outputId": "4933977d-fd15-4cd7-cb62-1f0c8a885f35"
      },
      "outputs": [
        {
          "output_type": "stream",
          "name": "stderr",
          "text": [
            "/usr/local/lib/python3.7/dist-packages/transformers/tokenization_utils_base.py:2302: UserWarning: `max_length` is ignored when `padding`=`True` and there is no truncation strategy. To pad to max length, use `padding='max_length'`.\n",
            "  \"`max_length` is ignored when `padding`=`True` and there is no truncation strategy. \"\n"
          ]
        },
        {
          "output_type": "stream",
          "name": "stdout",
          "text": [
            "SST Val accuracy: 0.8679906542056075, CoLA Val accuracy: 0.8271028037383178, SST Val loss: 0.000731920066755265, CoLA Val loss: 0.0013161228271201253 \n"
          ]
        }
      ],
      "source": [
        "test_sst_acc, test_sst_loss, test_cola_acc, test_cola_loss = eval_metrics(model, val_loader, criterion)\n",
        "print(\"SST Val accuracy: {}, CoLA Val accuracy: {}, SST Val loss: {}, CoLA Val loss: {} \".format(test_sst_acc, test_cola_acc, test_sst_loss, test_cola_loss))"
      ]
    },
    {
      "cell_type": "code",
      "execution_count": null,
      "metadata": {
        "id": "JeT2uQEIhS8n",
        "colab": {
          "base_uri": "https://localhost:8080/"
        },
        "outputId": "6781a6ee-7973-41c3-f953-b41a60ac1941"
      },
      "outputs": [
        {
          "output_type": "stream",
          "name": "stderr",
          "text": [
            "/usr/local/lib/python3.7/dist-packages/transformers/tokenization_utils_base.py:2302: UserWarning: `max_length` is ignored when `padding`=`True` and there is no truncation strategy. To pad to max length, use `padding='max_length'`.\n",
            "  \"`max_length` is ignored when `padding`=`True` and there is no truncation strategy. \"\n"
          ]
        },
        {
          "output_type": "stream",
          "name": "stdout",
          "text": [
            "SST Test accuracy: 0.889943074003795, CoLA Val accuracy: 0.825426944971537, SST Val loss: 0.0011977063259109855, CoLA Val loss: 0.0017255261773243546 \n"
          ]
        }
      ],
      "source": [
        "test_sst_acc, test_sst_loss, test_cola_acc, test_cola_loss = eval_metrics(model, test_loader, criterion)\n",
        "print(\"SST Test accuracy: {}, CoLA Val accuracy: {}, SST Val loss: {}, CoLA Val loss: {} \".format(test_sst_acc, test_cola_acc, test_sst_loss, test_cola_loss))"
      ]
    },
    {
      "cell_type": "code",
      "source": [
        "print(model.parameters())"
      ],
      "metadata": {
        "colab": {
          "base_uri": "https://localhost:8080/"
        },
        "id": "kLGWyh5oHP4n",
        "outputId": "69e46c95-f8eb-41c4-b7fd-f14dd66ec846"
      },
      "execution_count": null,
      "outputs": [
        {
          "output_type": "stream",
          "name": "stdout",
          "text": [
            "<generator object Module.parameters at 0x7feb811e0dd0>\n"
          ]
        }
      ]
    },
    {
      "cell_type": "markdown",
      "metadata": {
        "id": "NlCTcEOOSgcV"
      },
      "source": [
        "### TODO: Adversarial attacks and Robustness Evaluation"
      ]
    },
    {
      "cell_type": "code",
      "execution_count": null,
      "metadata": {
        "id": "fLH_bFIASkWE"
      },
      "outputs": [],
      "source": [
        "def attack():\n",
        "  pass"
      ]
    },
    {
      "cell_type": "code",
      "source": [
        "cd '/content/drive/Shareddrives/CS263/Final Project'"
      ],
      "metadata": {
        "colab": {
          "base_uri": "https://localhost:8080/"
        },
        "id": "jSrq-oWmXup0",
        "outputId": "0c778e27-f734-4a34-edcf-ecc76358acf9"
      },
      "execution_count": null,
      "outputs": [
        {
          "output_type": "stream",
          "name": "stdout",
          "text": [
            "/content/drive/Shareddrives/CS263/Final Project\n"
          ]
        }
      ]
    },
    {
      "cell_type": "code",
      "source": [
        "import pandas as pd\n",
        "\n",
        "sst_adv_dataset = pd.read_csv('adversial_sst.csv')\n",
        "cola_adv_dataset = pd.read_csv('adversial_cola.csv')\n"
      ],
      "metadata": {
        "id": "5_LKxbArW31R"
      },
      "execution_count": null,
      "outputs": []
    },
    {
      "cell_type": "code",
      "source": [
        "adv_set = MultitaskDataset(tokenizer, sst_adv_dataset['sentences'], sst_adv_dataset['labels'], \n",
        "                             cola_adv_dataset['sentences'], cola_adv_dataset['labels'])\n",
        "adv_loader  = DataLoader(adv_set, shuffle=False, batch_size=8,\n",
        "                          collate_fn=adv_set.collate_fn)"
      ],
      "metadata": {
        "id": "6k6O5bD_YaJy"
      },
      "execution_count": null,
      "outputs": []
    },
    {
      "cell_type": "code",
      "source": [
        "eval_batch_size = 12\n",
        "max_output_length = 100\n"
      ],
      "metadata": {
        "id": "o0eVz53mfLfz"
      },
      "execution_count": null,
      "outputs": []
    },
    {
      "cell_type": "code",
      "source": [
        "adv_sst_acc, adv_sst_loss, adv_cola_acc, adv_cola_loss = eval_metrics(model, adv_loader, criterion)\n",
        "print(\"SST ADV accuracy: {}, CoLA ADV accuracy: {}, SST ADV loss: {}, CoLA ADV loss: {} \".format(adv_sst_acc, adv_cola_acc, adv_sst_loss, adv_cola_loss))"
      ],
      "metadata": {
        "colab": {
          "base_uri": "https://localhost:8080/"
        },
        "id": "If93cC1Wr_OP",
        "outputId": "e0122aa9-4956-49be-b62a-f2be8adf5f89"
      },
      "execution_count": null,
      "outputs": [
        {
          "output_type": "stream",
          "name": "stderr",
          "text": [
            "/usr/local/lib/python3.7/dist-packages/transformers/tokenization_utils_base.py:2302: UserWarning: `max_length` is ignored when `padding`=`True` and there is no truncation strategy. To pad to max length, use `padding='max_length'`.\n",
            "  \"`max_length` is ignored when `padding`=`True` and there is no truncation strategy. \"\n"
          ]
        },
        {
          "output_type": "stream",
          "name": "stdout",
          "text": [
            "SST ADV accuracy: 0.5434782608695652, CoLA ADV accuracy: 0.2246376811594203, SST ADV loss: 0.011786402203142643, CoLA ADV loss: 0.0045721870847046375 \n"
          ]
        }
      ]
    },
    {
      "cell_type": "markdown",
      "source": [
        "Transfer attacks"
      ],
      "metadata": {
        "id": "2oTDXYTaxEkY"
      }
    },
    {
      "cell_type": "code",
      "source": [
        "#BERT transfer attacks\n",
        "\n",
        "sst_adv_dataset = pd.read_csv('bert_adversarial_sst.csv')\n",
        "cola_adv_dataset = pd.read_csv('bert_adversarial_cola.csv')\n",
        "\n",
        "adv_set = MultitaskDataset(tokenizer, sst_adv_dataset['sentences'], sst_adv_dataset['labels'], \n",
        "                             cola_adv_dataset['sentences'], cola_adv_dataset['labels'])\n",
        "adv_loader  = DataLoader(adv_set, shuffle=False, batch_size=8,\n",
        "                          collate_fn=adv_set.collate_fn)\n"
      ],
      "metadata": {
        "id": "OjuYWFsBxQl8"
      },
      "execution_count": null,
      "outputs": []
    },
    {
      "cell_type": "code",
      "source": [
        "adv_sst_acc, adv_sst_loss, adv_cola_acc, adv_cola_loss = eval_metrics(model, adv_loader, criterion)\n",
        "print(\"SST ADV accuracy: {}, CoLA ADV accuracy: {}, SST ADV loss: {}, CoLA ADV loss: {} \".format(adv_sst_acc, adv_cola_acc, adv_sst_loss, adv_cola_loss))"
      ],
      "metadata": {
        "colab": {
          "base_uri": "https://localhost:8080/"
        },
        "id": "lqFVUuz0xbKY",
        "outputId": "b4767dad-149b-49d1-de00-8e7ef7a31a80"
      },
      "execution_count": null,
      "outputs": [
        {
          "output_type": "stream",
          "name": "stderr",
          "text": [
            "/usr/local/lib/python3.7/dist-packages/transformers/tokenization_utils_base.py:2302: UserWarning: `max_length` is ignored when `padding`=`True` and there is no truncation strategy. To pad to max length, use `padding='max_length'`.\n",
            "  \"`max_length` is ignored when `padding`=`True` and there is no truncation strategy. \"\n"
          ]
        },
        {
          "output_type": "stream",
          "name": "stdout",
          "text": [
            "SST ADV accuracy: 0.4830508474576271, CoLA ADV accuracy: 0.21694915254237288, SST ADV loss: 0.0033328437712043524, CoLA ADV loss: 0.00445141363888979 \n"
          ]
        }
      ]
    },
    {
      "cell_type": "code",
      "source": [
        "#ROBERTA transfer attack\n",
        "\n",
        "sst_adv_dataset = pd.read_csv('roberta_adversarial_sst.csv')\n",
        "cola_adv_dataset = pd.read_csv('roberta_adversarial_cola.csv')\n",
        "\n",
        "adv_set = MultitaskDataset(tokenizer, sst_adv_dataset['sentences'], sst_adv_dataset['labels'], \n",
        "                             cola_adv_dataset['sentences'], cola_adv_dataset['labels'])\n",
        "adv_loader  = DataLoader(adv_set, shuffle=False, batch_size=8,\n",
        "                          collate_fn=adv_set.collate_fn)\n"
      ],
      "metadata": {
        "id": "QR3nIFFMx7Pl"
      },
      "execution_count": null,
      "outputs": []
    },
    {
      "cell_type": "code",
      "source": [
        "adv_sst_acc, adv_sst_loss, adv_cola_acc, adv_cola_loss = eval_metrics(model, adv_loader, criterion)\n",
        "print(\"SST ADV accuracy: {}, CoLA ADV accuracy: {}, SST ADV loss: {}, CoLA ADV loss: {} \".format(adv_sst_acc, adv_cola_acc, adv_sst_loss, adv_cola_loss))"
      ],
      "metadata": {
        "colab": {
          "base_uri": "https://localhost:8080/"
        },
        "id": "U1QPCJMmx_Be",
        "outputId": "b6f2bbe3-e4a4-40c3-c782-ab97d7e9924a"
      },
      "execution_count": null,
      "outputs": [
        {
          "output_type": "stream",
          "name": "stderr",
          "text": [
            "/usr/local/lib/python3.7/dist-packages/transformers/tokenization_utils_base.py:2302: UserWarning: `max_length` is ignored when `padding`=`True` and there is no truncation strategy. To pad to max length, use `padding='max_length'`.\n",
            "  \"`max_length` is ignored when `padding`=`True` and there is no truncation strategy. \"\n"
          ]
        },
        {
          "output_type": "stream",
          "name": "stdout",
          "text": [
            "SST ADV accuracy: 0.5517857142857143, CoLA ADV accuracy: 0.37142857142857144, SST ADV loss: 0.003170850919559598, CoLA ADV loss: 0.003800953272730112 \n"
          ]
        }
      ]
    },
    {
      "cell_type": "code",
      "source": [
        "#Data aug\n",
        "sst_adv_dataset = pd.read_csv('augmented_sst.csv')\n",
        "cola_adv_dataset = pd.read_csv('augmented_cola.csv')\n",
        "\n",
        "adv_set = MultitaskDataset(tokenizer, sst_adv_dataset['sentences'], sst_adv_dataset['labels'], \n",
        "                             cola_adv_dataset['sentences'], cola_adv_dataset['labels'])\n",
        "adv_loader  = DataLoader(adv_set, shuffle=False, batch_size=8,\n",
        "                          collate_fn=adv_set.collate_fn)\n"
      ],
      "metadata": {
        "id": "oyM70bJZzeFp"
      },
      "execution_count": null,
      "outputs": []
    },
    {
      "cell_type": "code",
      "source": [
        "from tqdm import tqdm\n",
        "epochs = 10\n",
        "\n",
        "for _ in range(epochs):\n",
        "  \n",
        "  tr_count = 0\n",
        "  sst_tr_acc = 0\n",
        "  sst_tr_loss = 0\n",
        "  cola_tr_acc = 0\n",
        "  cola_tr_loss = 0\n",
        "  \n",
        "  model.train()\n",
        "  for sample in tqdm(adv_loader):\n",
        "    # Note can also set the data to a decide (cuda)\n",
        "    model.zero_grad()\n",
        "    \n",
        "    x1_id = sample.sst_id_text.cuda()\n",
        "    x2_id = sample.cola_id_text.cuda()\n",
        "    x1_attention_mask = sample.sst_attention_mask.cuda()\n",
        "    x2_attention_mask = sample.cola_attention_mask.cuda()\n",
        "    y1_pred = model(x1_id, x1_attention_mask, 0).reshape(-1, 2)\n",
        "    y2_pred = model(x2_id, x2_attention_mask, 1).reshape(-1, 2)\n",
        "    sample_sst_target = torch.tensor(sample.sst_target).type(torch.long).reshape(-1)\n",
        "    sample_cola_target = torch.tensor(sample.cola_target).type(torch.long).reshape(-1)\n",
        "    sample_sst_target = sample_sst_target.cuda()\n",
        "    sample_cola_target = sample_cola_target.cuda()\n",
        "\n",
        "    sst_loss = criterion(y1_pred, sample_sst_target)\n",
        "    cola_loss = criterion(y2_pred, sample_cola_target)\n",
        "    # multitask loss\n",
        "    loss = sst_loss + cola_loss\n",
        "    loss.backward()\n",
        "    optimizer.step()\n",
        "    sst_tr_acc += (torch.eq(sample_sst_target,y1_pred.argmax(1))).sum().item()\n",
        "    cola_tr_acc += (torch.eq(sample_cola_target, y2_pred.argmax(1))).sum().item()\n",
        "    sst_tr_loss += sst_loss.item()\n",
        "    cola_tr_loss += cola_loss.item()\n",
        "    tr_count += y1_pred.shape[0]\n",
        "    \n",
        "  print(\"SST Train accuracy: {}, CoLA Train accuracy: {}, SST Train loss: {}, CoLA Train loss: {}\".format(sst_tr_acc/tr_count, cola_tr_acc/tr_count, sst_tr_loss/tr_count, cola_tr_loss/tr_count))"
      ],
      "metadata": {
        "colab": {
          "base_uri": "https://localhost:8080/"
        },
        "id": "9vyZXtyDz-nE",
        "outputId": "690f5f09-f037-45dd-fc77-ba2568e1de7c"
      },
      "execution_count": null,
      "outputs": [
        {
          "output_type": "stream",
          "name": "stderr",
          "text": [
            "\r  0%|          | 0/250 [00:00<?, ?it/s]/usr/local/lib/python3.7/dist-packages/transformers/tokenization_utils_base.py:2302: UserWarning: `max_length` is ignored when `padding`=`True` and there is no truncation strategy. To pad to max length, use `padding='max_length'`.\n",
            "  \"`max_length` is ignored when `padding`=`True` and there is no truncation strategy. \"\n",
            "100%|██████████| 250/250 [00:41<00:00,  5.97it/s]\n"
          ]
        },
        {
          "output_type": "stream",
          "name": "stdout",
          "text": [
            "SST Train accuracy: 0.9065, CoLA Train accuracy: 0.738, SST Train loss: 0.05048494467139244, CoLA Train loss: 0.07139900241792202\n"
          ]
        },
        {
          "output_type": "stream",
          "name": "stderr",
          "text": [
            "100%|██████████| 250/250 [00:41<00:00,  6.04it/s]\n"
          ]
        },
        {
          "output_type": "stream",
          "name": "stdout",
          "text": [
            "SST Train accuracy: 0.911, CoLA Train accuracy: 0.782, SST Train loss: 0.05021222200989723, CoLA Train loss: 0.06588066667318344\n"
          ]
        },
        {
          "output_type": "stream",
          "name": "stderr",
          "text": [
            "100%|██████████| 250/250 [00:41<00:00,  6.03it/s]\n"
          ]
        },
        {
          "output_type": "stream",
          "name": "stdout",
          "text": [
            "SST Train accuracy: 0.9285, CoLA Train accuracy: 0.8075, SST Train loss: 0.04797845709323883, CoLA Train loss: 0.06266209696233273\n"
          ]
        },
        {
          "output_type": "stream",
          "name": "stderr",
          "text": [
            "100%|██████████| 250/250 [00:41<00:00,  5.96it/s]\n"
          ]
        },
        {
          "output_type": "stream",
          "name": "stdout",
          "text": [
            "SST Train accuracy: 0.93, CoLA Train accuracy: 0.8315, SST Train loss: 0.04784189991652966, CoLA Train loss: 0.059951678588986396\n"
          ]
        },
        {
          "output_type": "stream",
          "name": "stderr",
          "text": [
            "100%|██████████| 250/250 [00:41<00:00,  6.01it/s]\n"
          ]
        },
        {
          "output_type": "stream",
          "name": "stdout",
          "text": [
            "SST Train accuracy: 0.9355, CoLA Train accuracy: 0.8255, SST Train loss: 0.047154362857341765, CoLA Train loss: 0.06059365563094616\n"
          ]
        },
        {
          "output_type": "stream",
          "name": "stderr",
          "text": [
            "100%|██████████| 250/250 [00:41<00:00,  6.00it/s]\n"
          ]
        },
        {
          "output_type": "stream",
          "name": "stdout",
          "text": [
            "SST Train accuracy: 0.944, CoLA Train accuracy: 0.844, SST Train loss: 0.045988764926791194, CoLA Train loss: 0.058350446492433546\n"
          ]
        },
        {
          "output_type": "stream",
          "name": "stderr",
          "text": [
            "100%|██████████| 250/250 [00:41<00:00,  6.01it/s]\n"
          ]
        },
        {
          "output_type": "stream",
          "name": "stdout",
          "text": [
            "SST Train accuracy: 0.943, CoLA Train accuracy: 0.849, SST Train loss: 0.04617068301141262, CoLA Train loss: 0.05769325143098831\n"
          ]
        },
        {
          "output_type": "stream",
          "name": "stderr",
          "text": [
            "100%|██████████| 250/250 [00:41<00:00,  6.01it/s]\n"
          ]
        },
        {
          "output_type": "stream",
          "name": "stdout",
          "text": [
            "SST Train accuracy: 0.9545, CoLA Train accuracy: 0.863, SST Train loss: 0.04468240733444691, CoLA Train loss: 0.05596238724887371\n"
          ]
        },
        {
          "output_type": "stream",
          "name": "stderr",
          "text": [
            "100%|██████████| 250/250 [00:41<00:00,  5.98it/s]\n"
          ]
        },
        {
          "output_type": "stream",
          "name": "stdout",
          "text": [
            "SST Train accuracy: 0.958, CoLA Train accuracy: 0.87, SST Train loss: 0.04434096233546734, CoLA Train loss: 0.055169729068875316\n"
          ]
        },
        {
          "output_type": "stream",
          "name": "stderr",
          "text": [
            "100%|██████████| 250/250 [00:41<00:00,  6.01it/s]"
          ]
        },
        {
          "output_type": "stream",
          "name": "stdout",
          "text": [
            "SST Train accuracy: 0.9565, CoLA Train accuracy: 0.8735, SST Train loss: 0.044428249910473824, CoLA Train loss: 0.054706901833415034\n"
          ]
        },
        {
          "output_type": "stream",
          "name": "stderr",
          "text": [
            "\n"
          ]
        }
      ]
    },
    {
      "cell_type": "code",
      "source": [
        "test_sst_acc, test_sst_loss, test_cola_acc, test_cola_loss = eval_metrics(model, test_loader, criterion)\n",
        "print(\"SST Test accuracy: {}, CoLA Val accuracy: {}, SST Val loss: {}, CoLA Val loss: {} \".format(test_sst_acc, test_cola_acc, test_sst_loss, test_cola_loss))"
      ],
      "metadata": {
        "colab": {
          "base_uri": "https://localhost:8080/"
        },
        "id": "RGjECO4uzkgC",
        "outputId": "660baf2a-df62-44a1-f4b5-6755b3520582"
      },
      "execution_count": null,
      "outputs": [
        {
          "output_type": "stream",
          "name": "stderr",
          "text": [
            "/usr/local/lib/python3.7/dist-packages/transformers/tokenization_utils_base.py:2302: UserWarning: `max_length` is ignored when `padding`=`True` and there is no truncation strategy. To pad to max length, use `padding='max_length'`.\n",
            "  \"`max_length` is ignored when `padding`=`True` and there is no truncation strategy. \"\n"
          ]
        },
        {
          "output_type": "stream",
          "name": "stdout",
          "text": [
            "SST Test accuracy: 0.9070208728652751, CoLA Val accuracy: 0.8178368121442126, SST Val loss: 0.0011889474699273705, CoLA Val loss: 0.001749540911987424 \n"
          ]
        }
      ]
    },
    {
      "cell_type": "code",
      "source": [
        "#BERT transfer attacks\n",
        "\n",
        "sst_adv_dataset = pd.read_csv('bert_adversarial_sst.csv')\n",
        "cola_adv_dataset = pd.read_csv('bert_adversarial_cola.csv')\n",
        "\n",
        "adv_set = MultitaskDataset(tokenizer, sst_adv_dataset['sentences'], sst_adv_dataset['labels'], \n",
        "                             cola_adv_dataset['sentences'], cola_adv_dataset['labels'])\n",
        "adv_loader  = DataLoader(adv_set, shuffle=False, batch_size=8,\n",
        "                          collate_fn=adv_set.collate_fn)\n"
      ],
      "metadata": {
        "id": "uwh9AhLQzpJ7"
      },
      "execution_count": null,
      "outputs": []
    },
    {
      "cell_type": "code",
      "source": [
        "adv_sst_acc, adv_sst_loss, adv_cola_acc, adv_cola_loss = eval_metrics(model, adv_loader, criterion)\n",
        "print(\"SST ADV accuracy: {}, CoLA ADV accuracy: {}, SST ADV loss: {}, CoLA ADV loss: {} \".format(adv_sst_acc, adv_cola_acc, adv_sst_loss, adv_cola_loss))"
      ],
      "metadata": {
        "colab": {
          "base_uri": "https://localhost:8080/"
        },
        "id": "cK4XsOV8z3rW",
        "outputId": "0fd28768-c932-4110-c18a-001ad6b54ca8"
      },
      "execution_count": null,
      "outputs": [
        {
          "output_type": "stream",
          "name": "stderr",
          "text": [
            "/usr/local/lib/python3.7/dist-packages/transformers/tokenization_utils_base.py:2302: UserWarning: `max_length` is ignored when `padding`=`True` and there is no truncation strategy. To pad to max length, use `padding='max_length'`.\n",
            "  \"`max_length` is ignored when `padding`=`True` and there is no truncation strategy. \"\n"
          ]
        },
        {
          "output_type": "stream",
          "name": "stdout",
          "text": [
            "SST ADV accuracy: 0.588135593220339, CoLA ADV accuracy: 0.5474576271186441, SST ADV loss: 0.003890178631991148, CoLA ADV loss: 0.00232752226293087 \n"
          ]
        }
      ]
    },
    {
      "cell_type": "code",
      "source": [
        "#ROBERTA transfer attack\n",
        "\n",
        "sst_adv_dataset = pd.read_csv('roberta_adversarial_sst.csv')\n",
        "cola_adv_dataset = pd.read_csv('roberta_adversarial_cola.csv')\n",
        "\n",
        "adv_set = MultitaskDataset(tokenizer, sst_adv_dataset['sentences'], sst_adv_dataset['labels'], \n",
        "                             cola_adv_dataset['sentences'], cola_adv_dataset['labels'])\n",
        "adv_loader  = DataLoader(adv_set, shuffle=False, batch_size=8,\n",
        "                          collate_fn=adv_set.collate_fn)\n"
      ],
      "metadata": {
        "id": "MEqXoHiDz5Q9"
      },
      "execution_count": null,
      "outputs": []
    },
    {
      "cell_type": "code",
      "source": [
        "adv_sst_acc, adv_sst_loss, adv_cola_acc, adv_cola_loss = eval_metrics(model, adv_loader, criterion)\n",
        "print(\"SST ADV accuracy: {}, CoLA ADV accuracy: {}, SST ADV loss: {}, CoLA ADV loss: {} \".format(adv_sst_acc, adv_cola_acc, adv_sst_loss, adv_cola_loss))"
      ],
      "metadata": {
        "colab": {
          "base_uri": "https://localhost:8080/"
        },
        "id": "1D0Dwox9z8Vy",
        "outputId": "0bbe7415-92af-436f-a4e7-d906384ddfc8"
      },
      "execution_count": null,
      "outputs": [
        {
          "output_type": "stream",
          "name": "stderr",
          "text": [
            "/usr/local/lib/python3.7/dist-packages/transformers/tokenization_utils_base.py:2302: UserWarning: `max_length` is ignored when `padding`=`True` and there is no truncation strategy. To pad to max length, use `padding='max_length'`.\n",
            "  \"`max_length` is ignored when `padding`=`True` and there is no truncation strategy. \"\n"
          ]
        },
        {
          "output_type": "stream",
          "name": "stdout",
          "text": [
            "SST ADV accuracy: 0.6, CoLA ADV accuracy: 0.6589285714285714, SST ADV loss: 0.004240900743752718, CoLA ADV loss: 0.0020172852091491222 \n"
          ]
        }
      ]
    }
  ],
  "metadata": {
    "accelerator": "GPU",
    "colab": {
      "collapsed_sections": [],
      "name": "Copy_of_bert_multitask_robustness.ipynb",
      "provenance": []
    },
    "kernelspec": {
      "display_name": "Python 3",
      "name": "python3"
    },
    "language_info": {
      "name": "python"
    },
    "widgets": {
      "application/vnd.jupyter.widget-state+json": {
        "9b8c150af17143bca3b9d1cd39b58cc0": {
          "model_module": "@jupyter-widgets/controls",
          "model_name": "HBoxModel",
          "model_module_version": "1.5.0",
          "state": {
            "_dom_classes": [],
            "_model_module": "@jupyter-widgets/controls",
            "_model_module_version": "1.5.0",
            "_model_name": "HBoxModel",
            "_view_count": null,
            "_view_module": "@jupyter-widgets/controls",
            "_view_module_version": "1.5.0",
            "_view_name": "HBoxView",
            "box_style": "",
            "children": [
              "IPY_MODEL_61923a05d9a4410f9abbbd46d009c5b9",
              "IPY_MODEL_b75c5255cbea4ff89b7de8e6e46bf0cc",
              "IPY_MODEL_70f6372f741e473796cce2a387228bfe"
            ],
            "layout": "IPY_MODEL_3d7274b8be694284be92276b44082634"
          }
        },
        "61923a05d9a4410f9abbbd46d009c5b9": {
          "model_module": "@jupyter-widgets/controls",
          "model_name": "HTMLModel",
          "model_module_version": "1.5.0",
          "state": {
            "_dom_classes": [],
            "_model_module": "@jupyter-widgets/controls",
            "_model_module_version": "1.5.0",
            "_model_name": "HTMLModel",
            "_view_count": null,
            "_view_module": "@jupyter-widgets/controls",
            "_view_module_version": "1.5.0",
            "_view_name": "HTMLView",
            "description": "",
            "description_tooltip": null,
            "layout": "IPY_MODEL_31729547db7d4238b1d0414ec7c081b1",
            "placeholder": "​",
            "style": "IPY_MODEL_5d4d3ed885774884aa9d608a63a34e65",
            "value": "Downloading: 100%"
          }
        },
        "b75c5255cbea4ff89b7de8e6e46bf0cc": {
          "model_module": "@jupyter-widgets/controls",
          "model_name": "FloatProgressModel",
          "model_module_version": "1.5.0",
          "state": {
            "_dom_classes": [],
            "_model_module": "@jupyter-widgets/controls",
            "_model_module_version": "1.5.0",
            "_model_name": "FloatProgressModel",
            "_view_count": null,
            "_view_module": "@jupyter-widgets/controls",
            "_view_module_version": "1.5.0",
            "_view_name": "ProgressView",
            "bar_style": "success",
            "description": "",
            "description_tooltip": null,
            "layout": "IPY_MODEL_9f669358a5a044ff9d351e2cacbb84b9",
            "max": 231508,
            "min": 0,
            "orientation": "horizontal",
            "style": "IPY_MODEL_68d853da09a64e309b7d2d488eaeb07a",
            "value": 231508
          }
        },
        "70f6372f741e473796cce2a387228bfe": {
          "model_module": "@jupyter-widgets/controls",
          "model_name": "HTMLModel",
          "model_module_version": "1.5.0",
          "state": {
            "_dom_classes": [],
            "_model_module": "@jupyter-widgets/controls",
            "_model_module_version": "1.5.0",
            "_model_name": "HTMLModel",
            "_view_count": null,
            "_view_module": "@jupyter-widgets/controls",
            "_view_module_version": "1.5.0",
            "_view_name": "HTMLView",
            "description": "",
            "description_tooltip": null,
            "layout": "IPY_MODEL_14bdc5d0a20745018c911198b9b7489e",
            "placeholder": "​",
            "style": "IPY_MODEL_c89b17c87c384e88bfbd38b6ae661548",
            "value": " 226k/226k [00:00&lt;00:00, 540kB/s]"
          }
        },
        "3d7274b8be694284be92276b44082634": {
          "model_module": "@jupyter-widgets/base",
          "model_name": "LayoutModel",
          "model_module_version": "1.2.0",
          "state": {
            "_model_module": "@jupyter-widgets/base",
            "_model_module_version": "1.2.0",
            "_model_name": "LayoutModel",
            "_view_count": null,
            "_view_module": "@jupyter-widgets/base",
            "_view_module_version": "1.2.0",
            "_view_name": "LayoutView",
            "align_content": null,
            "align_items": null,
            "align_self": null,
            "border": null,
            "bottom": null,
            "display": null,
            "flex": null,
            "flex_flow": null,
            "grid_area": null,
            "grid_auto_columns": null,
            "grid_auto_flow": null,
            "grid_auto_rows": null,
            "grid_column": null,
            "grid_gap": null,
            "grid_row": null,
            "grid_template_areas": null,
            "grid_template_columns": null,
            "grid_template_rows": null,
            "height": null,
            "justify_content": null,
            "justify_items": null,
            "left": null,
            "margin": null,
            "max_height": null,
            "max_width": null,
            "min_height": null,
            "min_width": null,
            "object_fit": null,
            "object_position": null,
            "order": null,
            "overflow": null,
            "overflow_x": null,
            "overflow_y": null,
            "padding": null,
            "right": null,
            "top": null,
            "visibility": null,
            "width": null
          }
        },
        "31729547db7d4238b1d0414ec7c081b1": {
          "model_module": "@jupyter-widgets/base",
          "model_name": "LayoutModel",
          "model_module_version": "1.2.0",
          "state": {
            "_model_module": "@jupyter-widgets/base",
            "_model_module_version": "1.2.0",
            "_model_name": "LayoutModel",
            "_view_count": null,
            "_view_module": "@jupyter-widgets/base",
            "_view_module_version": "1.2.0",
            "_view_name": "LayoutView",
            "align_content": null,
            "align_items": null,
            "align_self": null,
            "border": null,
            "bottom": null,
            "display": null,
            "flex": null,
            "flex_flow": null,
            "grid_area": null,
            "grid_auto_columns": null,
            "grid_auto_flow": null,
            "grid_auto_rows": null,
            "grid_column": null,
            "grid_gap": null,
            "grid_row": null,
            "grid_template_areas": null,
            "grid_template_columns": null,
            "grid_template_rows": null,
            "height": null,
            "justify_content": null,
            "justify_items": null,
            "left": null,
            "margin": null,
            "max_height": null,
            "max_width": null,
            "min_height": null,
            "min_width": null,
            "object_fit": null,
            "object_position": null,
            "order": null,
            "overflow": null,
            "overflow_x": null,
            "overflow_y": null,
            "padding": null,
            "right": null,
            "top": null,
            "visibility": null,
            "width": null
          }
        },
        "5d4d3ed885774884aa9d608a63a34e65": {
          "model_module": "@jupyter-widgets/controls",
          "model_name": "DescriptionStyleModel",
          "model_module_version": "1.5.0",
          "state": {
            "_model_module": "@jupyter-widgets/controls",
            "_model_module_version": "1.5.0",
            "_model_name": "DescriptionStyleModel",
            "_view_count": null,
            "_view_module": "@jupyter-widgets/base",
            "_view_module_version": "1.2.0",
            "_view_name": "StyleView",
            "description_width": ""
          }
        },
        "9f669358a5a044ff9d351e2cacbb84b9": {
          "model_module": "@jupyter-widgets/base",
          "model_name": "LayoutModel",
          "model_module_version": "1.2.0",
          "state": {
            "_model_module": "@jupyter-widgets/base",
            "_model_module_version": "1.2.0",
            "_model_name": "LayoutModel",
            "_view_count": null,
            "_view_module": "@jupyter-widgets/base",
            "_view_module_version": "1.2.0",
            "_view_name": "LayoutView",
            "align_content": null,
            "align_items": null,
            "align_self": null,
            "border": null,
            "bottom": null,
            "display": null,
            "flex": null,
            "flex_flow": null,
            "grid_area": null,
            "grid_auto_columns": null,
            "grid_auto_flow": null,
            "grid_auto_rows": null,
            "grid_column": null,
            "grid_gap": null,
            "grid_row": null,
            "grid_template_areas": null,
            "grid_template_columns": null,
            "grid_template_rows": null,
            "height": null,
            "justify_content": null,
            "justify_items": null,
            "left": null,
            "margin": null,
            "max_height": null,
            "max_width": null,
            "min_height": null,
            "min_width": null,
            "object_fit": null,
            "object_position": null,
            "order": null,
            "overflow": null,
            "overflow_x": null,
            "overflow_y": null,
            "padding": null,
            "right": null,
            "top": null,
            "visibility": null,
            "width": null
          }
        },
        "68d853da09a64e309b7d2d488eaeb07a": {
          "model_module": "@jupyter-widgets/controls",
          "model_name": "ProgressStyleModel",
          "model_module_version": "1.5.0",
          "state": {
            "_model_module": "@jupyter-widgets/controls",
            "_model_module_version": "1.5.0",
            "_model_name": "ProgressStyleModel",
            "_view_count": null,
            "_view_module": "@jupyter-widgets/base",
            "_view_module_version": "1.2.0",
            "_view_name": "StyleView",
            "bar_color": null,
            "description_width": ""
          }
        },
        "14bdc5d0a20745018c911198b9b7489e": {
          "model_module": "@jupyter-widgets/base",
          "model_name": "LayoutModel",
          "model_module_version": "1.2.0",
          "state": {
            "_model_module": "@jupyter-widgets/base",
            "_model_module_version": "1.2.0",
            "_model_name": "LayoutModel",
            "_view_count": null,
            "_view_module": "@jupyter-widgets/base",
            "_view_module_version": "1.2.0",
            "_view_name": "LayoutView",
            "align_content": null,
            "align_items": null,
            "align_self": null,
            "border": null,
            "bottom": null,
            "display": null,
            "flex": null,
            "flex_flow": null,
            "grid_area": null,
            "grid_auto_columns": null,
            "grid_auto_flow": null,
            "grid_auto_rows": null,
            "grid_column": null,
            "grid_gap": null,
            "grid_row": null,
            "grid_template_areas": null,
            "grid_template_columns": null,
            "grid_template_rows": null,
            "height": null,
            "justify_content": null,
            "justify_items": null,
            "left": null,
            "margin": null,
            "max_height": null,
            "max_width": null,
            "min_height": null,
            "min_width": null,
            "object_fit": null,
            "object_position": null,
            "order": null,
            "overflow": null,
            "overflow_x": null,
            "overflow_y": null,
            "padding": null,
            "right": null,
            "top": null,
            "visibility": null,
            "width": null
          }
        },
        "c89b17c87c384e88bfbd38b6ae661548": {
          "model_module": "@jupyter-widgets/controls",
          "model_name": "DescriptionStyleModel",
          "model_module_version": "1.5.0",
          "state": {
            "_model_module": "@jupyter-widgets/controls",
            "_model_module_version": "1.5.0",
            "_model_name": "DescriptionStyleModel",
            "_view_count": null,
            "_view_module": "@jupyter-widgets/base",
            "_view_module_version": "1.2.0",
            "_view_name": "StyleView",
            "description_width": ""
          }
        },
        "2fa52ccece6f4220a7e00e859fa67d3c": {
          "model_module": "@jupyter-widgets/controls",
          "model_name": "HBoxModel",
          "model_module_version": "1.5.0",
          "state": {
            "_dom_classes": [],
            "_model_module": "@jupyter-widgets/controls",
            "_model_module_version": "1.5.0",
            "_model_name": "HBoxModel",
            "_view_count": null,
            "_view_module": "@jupyter-widgets/controls",
            "_view_module_version": "1.5.0",
            "_view_name": "HBoxView",
            "box_style": "",
            "children": [
              "IPY_MODEL_2fdb0fd49dea4e64855a1e8ba38524a3",
              "IPY_MODEL_7a7ef1e523f745ddb49b16bda64b6c7b",
              "IPY_MODEL_db276701b70e430e96abb5e01dd235a6"
            ],
            "layout": "IPY_MODEL_f6613c0bd3ee4e6c90fe1a154f3350b7"
          }
        },
        "2fdb0fd49dea4e64855a1e8ba38524a3": {
          "model_module": "@jupyter-widgets/controls",
          "model_name": "HTMLModel",
          "model_module_version": "1.5.0",
          "state": {
            "_dom_classes": [],
            "_model_module": "@jupyter-widgets/controls",
            "_model_module_version": "1.5.0",
            "_model_name": "HTMLModel",
            "_view_count": null,
            "_view_module": "@jupyter-widgets/controls",
            "_view_module_version": "1.5.0",
            "_view_name": "HTMLView",
            "description": "",
            "description_tooltip": null,
            "layout": "IPY_MODEL_cb4fa0d1576f46b99e3247cde1c7147a",
            "placeholder": "​",
            "style": "IPY_MODEL_d4899689d6aa4532a62b2d5c4560beee",
            "value": "Downloading: 100%"
          }
        },
        "7a7ef1e523f745ddb49b16bda64b6c7b": {
          "model_module": "@jupyter-widgets/controls",
          "model_name": "FloatProgressModel",
          "model_module_version": "1.5.0",
          "state": {
            "_dom_classes": [],
            "_model_module": "@jupyter-widgets/controls",
            "_model_module_version": "1.5.0",
            "_model_name": "FloatProgressModel",
            "_view_count": null,
            "_view_module": "@jupyter-widgets/controls",
            "_view_module_version": "1.5.0",
            "_view_name": "ProgressView",
            "bar_style": "success",
            "description": "",
            "description_tooltip": null,
            "layout": "IPY_MODEL_3fc4ac3294b64c97b4513526a41bd506",
            "max": 28,
            "min": 0,
            "orientation": "horizontal",
            "style": "IPY_MODEL_ca1827237f294d1892574793bdbdf1a6",
            "value": 28
          }
        },
        "db276701b70e430e96abb5e01dd235a6": {
          "model_module": "@jupyter-widgets/controls",
          "model_name": "HTMLModel",
          "model_module_version": "1.5.0",
          "state": {
            "_dom_classes": [],
            "_model_module": "@jupyter-widgets/controls",
            "_model_module_version": "1.5.0",
            "_model_name": "HTMLModel",
            "_view_count": null,
            "_view_module": "@jupyter-widgets/controls",
            "_view_module_version": "1.5.0",
            "_view_name": "HTMLView",
            "description": "",
            "description_tooltip": null,
            "layout": "IPY_MODEL_6d146be679804bc1b3409fd2a7e00d22",
            "placeholder": "​",
            "style": "IPY_MODEL_31903e8ad3f4496e8c03dbd8285c46ee",
            "value": " 28.0/28.0 [00:00&lt;00:00, 255B/s]"
          }
        },
        "f6613c0bd3ee4e6c90fe1a154f3350b7": {
          "model_module": "@jupyter-widgets/base",
          "model_name": "LayoutModel",
          "model_module_version": "1.2.0",
          "state": {
            "_model_module": "@jupyter-widgets/base",
            "_model_module_version": "1.2.0",
            "_model_name": "LayoutModel",
            "_view_count": null,
            "_view_module": "@jupyter-widgets/base",
            "_view_module_version": "1.2.0",
            "_view_name": "LayoutView",
            "align_content": null,
            "align_items": null,
            "align_self": null,
            "border": null,
            "bottom": null,
            "display": null,
            "flex": null,
            "flex_flow": null,
            "grid_area": null,
            "grid_auto_columns": null,
            "grid_auto_flow": null,
            "grid_auto_rows": null,
            "grid_column": null,
            "grid_gap": null,
            "grid_row": null,
            "grid_template_areas": null,
            "grid_template_columns": null,
            "grid_template_rows": null,
            "height": null,
            "justify_content": null,
            "justify_items": null,
            "left": null,
            "margin": null,
            "max_height": null,
            "max_width": null,
            "min_height": null,
            "min_width": null,
            "object_fit": null,
            "object_position": null,
            "order": null,
            "overflow": null,
            "overflow_x": null,
            "overflow_y": null,
            "padding": null,
            "right": null,
            "top": null,
            "visibility": null,
            "width": null
          }
        },
        "cb4fa0d1576f46b99e3247cde1c7147a": {
          "model_module": "@jupyter-widgets/base",
          "model_name": "LayoutModel",
          "model_module_version": "1.2.0",
          "state": {
            "_model_module": "@jupyter-widgets/base",
            "_model_module_version": "1.2.0",
            "_model_name": "LayoutModel",
            "_view_count": null,
            "_view_module": "@jupyter-widgets/base",
            "_view_module_version": "1.2.0",
            "_view_name": "LayoutView",
            "align_content": null,
            "align_items": null,
            "align_self": null,
            "border": null,
            "bottom": null,
            "display": null,
            "flex": null,
            "flex_flow": null,
            "grid_area": null,
            "grid_auto_columns": null,
            "grid_auto_flow": null,
            "grid_auto_rows": null,
            "grid_column": null,
            "grid_gap": null,
            "grid_row": null,
            "grid_template_areas": null,
            "grid_template_columns": null,
            "grid_template_rows": null,
            "height": null,
            "justify_content": null,
            "justify_items": null,
            "left": null,
            "margin": null,
            "max_height": null,
            "max_width": null,
            "min_height": null,
            "min_width": null,
            "object_fit": null,
            "object_position": null,
            "order": null,
            "overflow": null,
            "overflow_x": null,
            "overflow_y": null,
            "padding": null,
            "right": null,
            "top": null,
            "visibility": null,
            "width": null
          }
        },
        "d4899689d6aa4532a62b2d5c4560beee": {
          "model_module": "@jupyter-widgets/controls",
          "model_name": "DescriptionStyleModel",
          "model_module_version": "1.5.0",
          "state": {
            "_model_module": "@jupyter-widgets/controls",
            "_model_module_version": "1.5.0",
            "_model_name": "DescriptionStyleModel",
            "_view_count": null,
            "_view_module": "@jupyter-widgets/base",
            "_view_module_version": "1.2.0",
            "_view_name": "StyleView",
            "description_width": ""
          }
        },
        "3fc4ac3294b64c97b4513526a41bd506": {
          "model_module": "@jupyter-widgets/base",
          "model_name": "LayoutModel",
          "model_module_version": "1.2.0",
          "state": {
            "_model_module": "@jupyter-widgets/base",
            "_model_module_version": "1.2.0",
            "_model_name": "LayoutModel",
            "_view_count": null,
            "_view_module": "@jupyter-widgets/base",
            "_view_module_version": "1.2.0",
            "_view_name": "LayoutView",
            "align_content": null,
            "align_items": null,
            "align_self": null,
            "border": null,
            "bottom": null,
            "display": null,
            "flex": null,
            "flex_flow": null,
            "grid_area": null,
            "grid_auto_columns": null,
            "grid_auto_flow": null,
            "grid_auto_rows": null,
            "grid_column": null,
            "grid_gap": null,
            "grid_row": null,
            "grid_template_areas": null,
            "grid_template_columns": null,
            "grid_template_rows": null,
            "height": null,
            "justify_content": null,
            "justify_items": null,
            "left": null,
            "margin": null,
            "max_height": null,
            "max_width": null,
            "min_height": null,
            "min_width": null,
            "object_fit": null,
            "object_position": null,
            "order": null,
            "overflow": null,
            "overflow_x": null,
            "overflow_y": null,
            "padding": null,
            "right": null,
            "top": null,
            "visibility": null,
            "width": null
          }
        },
        "ca1827237f294d1892574793bdbdf1a6": {
          "model_module": "@jupyter-widgets/controls",
          "model_name": "ProgressStyleModel",
          "model_module_version": "1.5.0",
          "state": {
            "_model_module": "@jupyter-widgets/controls",
            "_model_module_version": "1.5.0",
            "_model_name": "ProgressStyleModel",
            "_view_count": null,
            "_view_module": "@jupyter-widgets/base",
            "_view_module_version": "1.2.0",
            "_view_name": "StyleView",
            "bar_color": null,
            "description_width": ""
          }
        },
        "6d146be679804bc1b3409fd2a7e00d22": {
          "model_module": "@jupyter-widgets/base",
          "model_name": "LayoutModel",
          "model_module_version": "1.2.0",
          "state": {
            "_model_module": "@jupyter-widgets/base",
            "_model_module_version": "1.2.0",
            "_model_name": "LayoutModel",
            "_view_count": null,
            "_view_module": "@jupyter-widgets/base",
            "_view_module_version": "1.2.0",
            "_view_name": "LayoutView",
            "align_content": null,
            "align_items": null,
            "align_self": null,
            "border": null,
            "bottom": null,
            "display": null,
            "flex": null,
            "flex_flow": null,
            "grid_area": null,
            "grid_auto_columns": null,
            "grid_auto_flow": null,
            "grid_auto_rows": null,
            "grid_column": null,
            "grid_gap": null,
            "grid_row": null,
            "grid_template_areas": null,
            "grid_template_columns": null,
            "grid_template_rows": null,
            "height": null,
            "justify_content": null,
            "justify_items": null,
            "left": null,
            "margin": null,
            "max_height": null,
            "max_width": null,
            "min_height": null,
            "min_width": null,
            "object_fit": null,
            "object_position": null,
            "order": null,
            "overflow": null,
            "overflow_x": null,
            "overflow_y": null,
            "padding": null,
            "right": null,
            "top": null,
            "visibility": null,
            "width": null
          }
        },
        "31903e8ad3f4496e8c03dbd8285c46ee": {
          "model_module": "@jupyter-widgets/controls",
          "model_name": "DescriptionStyleModel",
          "model_module_version": "1.5.0",
          "state": {
            "_model_module": "@jupyter-widgets/controls",
            "_model_module_version": "1.5.0",
            "_model_name": "DescriptionStyleModel",
            "_view_count": null,
            "_view_module": "@jupyter-widgets/base",
            "_view_module_version": "1.2.0",
            "_view_name": "StyleView",
            "description_width": ""
          }
        },
        "1d1bdf446f164ad4aa4151d101ef724c": {
          "model_module": "@jupyter-widgets/controls",
          "model_name": "HBoxModel",
          "model_module_version": "1.5.0",
          "state": {
            "_dom_classes": [],
            "_model_module": "@jupyter-widgets/controls",
            "_model_module_version": "1.5.0",
            "_model_name": "HBoxModel",
            "_view_count": null,
            "_view_module": "@jupyter-widgets/controls",
            "_view_module_version": "1.5.0",
            "_view_name": "HBoxView",
            "box_style": "",
            "children": [
              "IPY_MODEL_e65bfe6bd1274f88a042749f7b210386",
              "IPY_MODEL_ac4e9d47889d41ffae16c6d840d706ea",
              "IPY_MODEL_1ae7f6be374c4527ab316d15c0b58c8d"
            ],
            "layout": "IPY_MODEL_cae24fb51c194ff1a4e848574d552ec8"
          }
        },
        "e65bfe6bd1274f88a042749f7b210386": {
          "model_module": "@jupyter-widgets/controls",
          "model_name": "HTMLModel",
          "model_module_version": "1.5.0",
          "state": {
            "_dom_classes": [],
            "_model_module": "@jupyter-widgets/controls",
            "_model_module_version": "1.5.0",
            "_model_name": "HTMLModel",
            "_view_count": null,
            "_view_module": "@jupyter-widgets/controls",
            "_view_module_version": "1.5.0",
            "_view_name": "HTMLView",
            "description": "",
            "description_tooltip": null,
            "layout": "IPY_MODEL_539551ceaa984b9dbb6c9ab489dc5d40",
            "placeholder": "​",
            "style": "IPY_MODEL_e03309e1e5a641b3a90eb5f080b4d981",
            "value": "Downloading: 100%"
          }
        },
        "ac4e9d47889d41ffae16c6d840d706ea": {
          "model_module": "@jupyter-widgets/controls",
          "model_name": "FloatProgressModel",
          "model_module_version": "1.5.0",
          "state": {
            "_dom_classes": [],
            "_model_module": "@jupyter-widgets/controls",
            "_model_module_version": "1.5.0",
            "_model_name": "FloatProgressModel",
            "_view_count": null,
            "_view_module": "@jupyter-widgets/controls",
            "_view_module_version": "1.5.0",
            "_view_name": "ProgressView",
            "bar_style": "success",
            "description": "",
            "description_tooltip": null,
            "layout": "IPY_MODEL_39e5d8bcee2f4cb8a43bb107e23415cf",
            "max": 570,
            "min": 0,
            "orientation": "horizontal",
            "style": "IPY_MODEL_6f2361e8c94e49fd9fd07a4d21c4efa1",
            "value": 570
          }
        },
        "1ae7f6be374c4527ab316d15c0b58c8d": {
          "model_module": "@jupyter-widgets/controls",
          "model_name": "HTMLModel",
          "model_module_version": "1.5.0",
          "state": {
            "_dom_classes": [],
            "_model_module": "@jupyter-widgets/controls",
            "_model_module_version": "1.5.0",
            "_model_name": "HTMLModel",
            "_view_count": null,
            "_view_module": "@jupyter-widgets/controls",
            "_view_module_version": "1.5.0",
            "_view_name": "HTMLView",
            "description": "",
            "description_tooltip": null,
            "layout": "IPY_MODEL_dcbc3a52642f433faa5571f960d7ca75",
            "placeholder": "​",
            "style": "IPY_MODEL_82e29fe5a9d24d93bc402e30e24e19ce",
            "value": " 570/570 [00:00&lt;00:00, 4.84kB/s]"
          }
        },
        "cae24fb51c194ff1a4e848574d552ec8": {
          "model_module": "@jupyter-widgets/base",
          "model_name": "LayoutModel",
          "model_module_version": "1.2.0",
          "state": {
            "_model_module": "@jupyter-widgets/base",
            "_model_module_version": "1.2.0",
            "_model_name": "LayoutModel",
            "_view_count": null,
            "_view_module": "@jupyter-widgets/base",
            "_view_module_version": "1.2.0",
            "_view_name": "LayoutView",
            "align_content": null,
            "align_items": null,
            "align_self": null,
            "border": null,
            "bottom": null,
            "display": null,
            "flex": null,
            "flex_flow": null,
            "grid_area": null,
            "grid_auto_columns": null,
            "grid_auto_flow": null,
            "grid_auto_rows": null,
            "grid_column": null,
            "grid_gap": null,
            "grid_row": null,
            "grid_template_areas": null,
            "grid_template_columns": null,
            "grid_template_rows": null,
            "height": null,
            "justify_content": null,
            "justify_items": null,
            "left": null,
            "margin": null,
            "max_height": null,
            "max_width": null,
            "min_height": null,
            "min_width": null,
            "object_fit": null,
            "object_position": null,
            "order": null,
            "overflow": null,
            "overflow_x": null,
            "overflow_y": null,
            "padding": null,
            "right": null,
            "top": null,
            "visibility": null,
            "width": null
          }
        },
        "539551ceaa984b9dbb6c9ab489dc5d40": {
          "model_module": "@jupyter-widgets/base",
          "model_name": "LayoutModel",
          "model_module_version": "1.2.0",
          "state": {
            "_model_module": "@jupyter-widgets/base",
            "_model_module_version": "1.2.0",
            "_model_name": "LayoutModel",
            "_view_count": null,
            "_view_module": "@jupyter-widgets/base",
            "_view_module_version": "1.2.0",
            "_view_name": "LayoutView",
            "align_content": null,
            "align_items": null,
            "align_self": null,
            "border": null,
            "bottom": null,
            "display": null,
            "flex": null,
            "flex_flow": null,
            "grid_area": null,
            "grid_auto_columns": null,
            "grid_auto_flow": null,
            "grid_auto_rows": null,
            "grid_column": null,
            "grid_gap": null,
            "grid_row": null,
            "grid_template_areas": null,
            "grid_template_columns": null,
            "grid_template_rows": null,
            "height": null,
            "justify_content": null,
            "justify_items": null,
            "left": null,
            "margin": null,
            "max_height": null,
            "max_width": null,
            "min_height": null,
            "min_width": null,
            "object_fit": null,
            "object_position": null,
            "order": null,
            "overflow": null,
            "overflow_x": null,
            "overflow_y": null,
            "padding": null,
            "right": null,
            "top": null,
            "visibility": null,
            "width": null
          }
        },
        "e03309e1e5a641b3a90eb5f080b4d981": {
          "model_module": "@jupyter-widgets/controls",
          "model_name": "DescriptionStyleModel",
          "model_module_version": "1.5.0",
          "state": {
            "_model_module": "@jupyter-widgets/controls",
            "_model_module_version": "1.5.0",
            "_model_name": "DescriptionStyleModel",
            "_view_count": null,
            "_view_module": "@jupyter-widgets/base",
            "_view_module_version": "1.2.0",
            "_view_name": "StyleView",
            "description_width": ""
          }
        },
        "39e5d8bcee2f4cb8a43bb107e23415cf": {
          "model_module": "@jupyter-widgets/base",
          "model_name": "LayoutModel",
          "model_module_version": "1.2.0",
          "state": {
            "_model_module": "@jupyter-widgets/base",
            "_model_module_version": "1.2.0",
            "_model_name": "LayoutModel",
            "_view_count": null,
            "_view_module": "@jupyter-widgets/base",
            "_view_module_version": "1.2.0",
            "_view_name": "LayoutView",
            "align_content": null,
            "align_items": null,
            "align_self": null,
            "border": null,
            "bottom": null,
            "display": null,
            "flex": null,
            "flex_flow": null,
            "grid_area": null,
            "grid_auto_columns": null,
            "grid_auto_flow": null,
            "grid_auto_rows": null,
            "grid_column": null,
            "grid_gap": null,
            "grid_row": null,
            "grid_template_areas": null,
            "grid_template_columns": null,
            "grid_template_rows": null,
            "height": null,
            "justify_content": null,
            "justify_items": null,
            "left": null,
            "margin": null,
            "max_height": null,
            "max_width": null,
            "min_height": null,
            "min_width": null,
            "object_fit": null,
            "object_position": null,
            "order": null,
            "overflow": null,
            "overflow_x": null,
            "overflow_y": null,
            "padding": null,
            "right": null,
            "top": null,
            "visibility": null,
            "width": null
          }
        },
        "6f2361e8c94e49fd9fd07a4d21c4efa1": {
          "model_module": "@jupyter-widgets/controls",
          "model_name": "ProgressStyleModel",
          "model_module_version": "1.5.0",
          "state": {
            "_model_module": "@jupyter-widgets/controls",
            "_model_module_version": "1.5.0",
            "_model_name": "ProgressStyleModel",
            "_view_count": null,
            "_view_module": "@jupyter-widgets/base",
            "_view_module_version": "1.2.0",
            "_view_name": "StyleView",
            "bar_color": null,
            "description_width": ""
          }
        },
        "dcbc3a52642f433faa5571f960d7ca75": {
          "model_module": "@jupyter-widgets/base",
          "model_name": "LayoutModel",
          "model_module_version": "1.2.0",
          "state": {
            "_model_module": "@jupyter-widgets/base",
            "_model_module_version": "1.2.0",
            "_model_name": "LayoutModel",
            "_view_count": null,
            "_view_module": "@jupyter-widgets/base",
            "_view_module_version": "1.2.0",
            "_view_name": "LayoutView",
            "align_content": null,
            "align_items": null,
            "align_self": null,
            "border": null,
            "bottom": null,
            "display": null,
            "flex": null,
            "flex_flow": null,
            "grid_area": null,
            "grid_auto_columns": null,
            "grid_auto_flow": null,
            "grid_auto_rows": null,
            "grid_column": null,
            "grid_gap": null,
            "grid_row": null,
            "grid_template_areas": null,
            "grid_template_columns": null,
            "grid_template_rows": null,
            "height": null,
            "justify_content": null,
            "justify_items": null,
            "left": null,
            "margin": null,
            "max_height": null,
            "max_width": null,
            "min_height": null,
            "min_width": null,
            "object_fit": null,
            "object_position": null,
            "order": null,
            "overflow": null,
            "overflow_x": null,
            "overflow_y": null,
            "padding": null,
            "right": null,
            "top": null,
            "visibility": null,
            "width": null
          }
        },
        "82e29fe5a9d24d93bc402e30e24e19ce": {
          "model_module": "@jupyter-widgets/controls",
          "model_name": "DescriptionStyleModel",
          "model_module_version": "1.5.0",
          "state": {
            "_model_module": "@jupyter-widgets/controls",
            "_model_module_version": "1.5.0",
            "_model_name": "DescriptionStyleModel",
            "_view_count": null,
            "_view_module": "@jupyter-widgets/base",
            "_view_module_version": "1.2.0",
            "_view_name": "StyleView",
            "description_width": ""
          }
        },
        "b5069a10266d4277a3d0ebe5fee173e5": {
          "model_module": "@jupyter-widgets/controls",
          "model_name": "HBoxModel",
          "model_module_version": "1.5.0",
          "state": {
            "_dom_classes": [],
            "_model_module": "@jupyter-widgets/controls",
            "_model_module_version": "1.5.0",
            "_model_name": "HBoxModel",
            "_view_count": null,
            "_view_module": "@jupyter-widgets/controls",
            "_view_module_version": "1.5.0",
            "_view_name": "HBoxView",
            "box_style": "",
            "children": [
              "IPY_MODEL_9b666e3166024215ac5d2f7f70f623f8",
              "IPY_MODEL_a063138f59bf491b8d4ddecde307f108",
              "IPY_MODEL_1fb5fc248bf148baa81553178fe99019"
            ],
            "layout": "IPY_MODEL_40c1ecd007984bc695afba74235a516a"
          }
        },
        "9b666e3166024215ac5d2f7f70f623f8": {
          "model_module": "@jupyter-widgets/controls",
          "model_name": "HTMLModel",
          "model_module_version": "1.5.0",
          "state": {
            "_dom_classes": [],
            "_model_module": "@jupyter-widgets/controls",
            "_model_module_version": "1.5.0",
            "_model_name": "HTMLModel",
            "_view_count": null,
            "_view_module": "@jupyter-widgets/controls",
            "_view_module_version": "1.5.0",
            "_view_name": "HTMLView",
            "description": "",
            "description_tooltip": null,
            "layout": "IPY_MODEL_2d9516288ea544e891c6a05a816da658",
            "placeholder": "​",
            "style": "IPY_MODEL_7ecd876dd89c4d05ae9e2955d082d4ef",
            "value": "Downloading: 100%"
          }
        },
        "a063138f59bf491b8d4ddecde307f108": {
          "model_module": "@jupyter-widgets/controls",
          "model_name": "FloatProgressModel",
          "model_module_version": "1.5.0",
          "state": {
            "_dom_classes": [],
            "_model_module": "@jupyter-widgets/controls",
            "_model_module_version": "1.5.0",
            "_model_name": "FloatProgressModel",
            "_view_count": null,
            "_view_module": "@jupyter-widgets/controls",
            "_view_module_version": "1.5.0",
            "_view_name": "ProgressView",
            "bar_style": "success",
            "description": "",
            "description_tooltip": null,
            "layout": "IPY_MODEL_181824cb2e3d46c1948fe1f47489c50b",
            "max": 440473133,
            "min": 0,
            "orientation": "horizontal",
            "style": "IPY_MODEL_44c97ba5920b4bb896942e56c195b9bb",
            "value": 440473133
          }
        },
        "1fb5fc248bf148baa81553178fe99019": {
          "model_module": "@jupyter-widgets/controls",
          "model_name": "HTMLModel",
          "model_module_version": "1.5.0",
          "state": {
            "_dom_classes": [],
            "_model_module": "@jupyter-widgets/controls",
            "_model_module_version": "1.5.0",
            "_model_name": "HTMLModel",
            "_view_count": null,
            "_view_module": "@jupyter-widgets/controls",
            "_view_module_version": "1.5.0",
            "_view_name": "HTMLView",
            "description": "",
            "description_tooltip": null,
            "layout": "IPY_MODEL_744bd9999ef04fa188bfb7b0217d01cc",
            "placeholder": "​",
            "style": "IPY_MODEL_5f87e6817df44b8da760a1e1e0c8aa84",
            "value": " 420M/420M [00:12&lt;00:00, 58.2MB/s]"
          }
        },
        "40c1ecd007984bc695afba74235a516a": {
          "model_module": "@jupyter-widgets/base",
          "model_name": "LayoutModel",
          "model_module_version": "1.2.0",
          "state": {
            "_model_module": "@jupyter-widgets/base",
            "_model_module_version": "1.2.0",
            "_model_name": "LayoutModel",
            "_view_count": null,
            "_view_module": "@jupyter-widgets/base",
            "_view_module_version": "1.2.0",
            "_view_name": "LayoutView",
            "align_content": null,
            "align_items": null,
            "align_self": null,
            "border": null,
            "bottom": null,
            "display": null,
            "flex": null,
            "flex_flow": null,
            "grid_area": null,
            "grid_auto_columns": null,
            "grid_auto_flow": null,
            "grid_auto_rows": null,
            "grid_column": null,
            "grid_gap": null,
            "grid_row": null,
            "grid_template_areas": null,
            "grid_template_columns": null,
            "grid_template_rows": null,
            "height": null,
            "justify_content": null,
            "justify_items": null,
            "left": null,
            "margin": null,
            "max_height": null,
            "max_width": null,
            "min_height": null,
            "min_width": null,
            "object_fit": null,
            "object_position": null,
            "order": null,
            "overflow": null,
            "overflow_x": null,
            "overflow_y": null,
            "padding": null,
            "right": null,
            "top": null,
            "visibility": null,
            "width": null
          }
        },
        "2d9516288ea544e891c6a05a816da658": {
          "model_module": "@jupyter-widgets/base",
          "model_name": "LayoutModel",
          "model_module_version": "1.2.0",
          "state": {
            "_model_module": "@jupyter-widgets/base",
            "_model_module_version": "1.2.0",
            "_model_name": "LayoutModel",
            "_view_count": null,
            "_view_module": "@jupyter-widgets/base",
            "_view_module_version": "1.2.0",
            "_view_name": "LayoutView",
            "align_content": null,
            "align_items": null,
            "align_self": null,
            "border": null,
            "bottom": null,
            "display": null,
            "flex": null,
            "flex_flow": null,
            "grid_area": null,
            "grid_auto_columns": null,
            "grid_auto_flow": null,
            "grid_auto_rows": null,
            "grid_column": null,
            "grid_gap": null,
            "grid_row": null,
            "grid_template_areas": null,
            "grid_template_columns": null,
            "grid_template_rows": null,
            "height": null,
            "justify_content": null,
            "justify_items": null,
            "left": null,
            "margin": null,
            "max_height": null,
            "max_width": null,
            "min_height": null,
            "min_width": null,
            "object_fit": null,
            "object_position": null,
            "order": null,
            "overflow": null,
            "overflow_x": null,
            "overflow_y": null,
            "padding": null,
            "right": null,
            "top": null,
            "visibility": null,
            "width": null
          }
        },
        "7ecd876dd89c4d05ae9e2955d082d4ef": {
          "model_module": "@jupyter-widgets/controls",
          "model_name": "DescriptionStyleModel",
          "model_module_version": "1.5.0",
          "state": {
            "_model_module": "@jupyter-widgets/controls",
            "_model_module_version": "1.5.0",
            "_model_name": "DescriptionStyleModel",
            "_view_count": null,
            "_view_module": "@jupyter-widgets/base",
            "_view_module_version": "1.2.0",
            "_view_name": "StyleView",
            "description_width": ""
          }
        },
        "181824cb2e3d46c1948fe1f47489c50b": {
          "model_module": "@jupyter-widgets/base",
          "model_name": "LayoutModel",
          "model_module_version": "1.2.0",
          "state": {
            "_model_module": "@jupyter-widgets/base",
            "_model_module_version": "1.2.0",
            "_model_name": "LayoutModel",
            "_view_count": null,
            "_view_module": "@jupyter-widgets/base",
            "_view_module_version": "1.2.0",
            "_view_name": "LayoutView",
            "align_content": null,
            "align_items": null,
            "align_self": null,
            "border": null,
            "bottom": null,
            "display": null,
            "flex": null,
            "flex_flow": null,
            "grid_area": null,
            "grid_auto_columns": null,
            "grid_auto_flow": null,
            "grid_auto_rows": null,
            "grid_column": null,
            "grid_gap": null,
            "grid_row": null,
            "grid_template_areas": null,
            "grid_template_columns": null,
            "grid_template_rows": null,
            "height": null,
            "justify_content": null,
            "justify_items": null,
            "left": null,
            "margin": null,
            "max_height": null,
            "max_width": null,
            "min_height": null,
            "min_width": null,
            "object_fit": null,
            "object_position": null,
            "order": null,
            "overflow": null,
            "overflow_x": null,
            "overflow_y": null,
            "padding": null,
            "right": null,
            "top": null,
            "visibility": null,
            "width": null
          }
        },
        "44c97ba5920b4bb896942e56c195b9bb": {
          "model_module": "@jupyter-widgets/controls",
          "model_name": "ProgressStyleModel",
          "model_module_version": "1.5.0",
          "state": {
            "_model_module": "@jupyter-widgets/controls",
            "_model_module_version": "1.5.0",
            "_model_name": "ProgressStyleModel",
            "_view_count": null,
            "_view_module": "@jupyter-widgets/base",
            "_view_module_version": "1.2.0",
            "_view_name": "StyleView",
            "bar_color": null,
            "description_width": ""
          }
        },
        "744bd9999ef04fa188bfb7b0217d01cc": {
          "model_module": "@jupyter-widgets/base",
          "model_name": "LayoutModel",
          "model_module_version": "1.2.0",
          "state": {
            "_model_module": "@jupyter-widgets/base",
            "_model_module_version": "1.2.0",
            "_model_name": "LayoutModel",
            "_view_count": null,
            "_view_module": "@jupyter-widgets/base",
            "_view_module_version": "1.2.0",
            "_view_name": "LayoutView",
            "align_content": null,
            "align_items": null,
            "align_self": null,
            "border": null,
            "bottom": null,
            "display": null,
            "flex": null,
            "flex_flow": null,
            "grid_area": null,
            "grid_auto_columns": null,
            "grid_auto_flow": null,
            "grid_auto_rows": null,
            "grid_column": null,
            "grid_gap": null,
            "grid_row": null,
            "grid_template_areas": null,
            "grid_template_columns": null,
            "grid_template_rows": null,
            "height": null,
            "justify_content": null,
            "justify_items": null,
            "left": null,
            "margin": null,
            "max_height": null,
            "max_width": null,
            "min_height": null,
            "min_width": null,
            "object_fit": null,
            "object_position": null,
            "order": null,
            "overflow": null,
            "overflow_x": null,
            "overflow_y": null,
            "padding": null,
            "right": null,
            "top": null,
            "visibility": null,
            "width": null
          }
        },
        "5f87e6817df44b8da760a1e1e0c8aa84": {
          "model_module": "@jupyter-widgets/controls",
          "model_name": "DescriptionStyleModel",
          "model_module_version": "1.5.0",
          "state": {
            "_model_module": "@jupyter-widgets/controls",
            "_model_module_version": "1.5.0",
            "_model_name": "DescriptionStyleModel",
            "_view_count": null,
            "_view_module": "@jupyter-widgets/base",
            "_view_module_version": "1.2.0",
            "_view_name": "StyleView",
            "description_width": ""
          }
        }
      }
    }
  },
  "nbformat": 4,
  "nbformat_minor": 0
}